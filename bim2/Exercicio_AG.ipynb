{
  "nbformat": 4,
  "nbformat_minor": 0,
  "metadata": {
    "colab": {
      "name": "Exercicio AG.ipynb",
      "provenance": []
    },
    "kernelspec": {
      "name": "python3",
      "display_name": "Python 3"
    }
  },
  "cells": [
    {
      "cell_type": "code",
      "metadata": {
        "id": "iG_El6e_SvVy",
        "colab_type": "code",
        "colab": {}
      },
      "source": [
        "import numpy as np"
      ],
      "execution_count": 1,
      "outputs": []
    },
    {
      "cell_type": "code",
      "metadata": {
        "id": "ZtmDtIAFTbqk",
        "colab_type": "code",
        "colab": {}
      },
      "source": [
        "class Produto():\n",
        "    # Construtor da classe\n",
        "    def __init__(self, nome, espaco, valor):\n",
        "        # Definição de atributos\n",
        "        self.nome = nome\n",
        "        self.espaco = espaco\n",
        "        self.valor = valor"
      ],
      "execution_count": 9,
      "outputs": []
    },
    {
      "cell_type": "code",
      "metadata": {
        "id": "iOl0xnENil4S",
        "colab_type": "code",
        "colab": {}
      },
      "source": [
        "if __name__ == '__main__':\n",
        "        # Teste para inicializar um produto\n",
        "        #p1 = Produto(\"Iphone 6\", 0.0000899, 2199.12)\n",
        "\n",
        "    # Cria uma lista para receber os produtos\n",
        "    lista_produtos = []\n",
        "    # Insere produtos em uma lista de objetos do tipo Produto.\n",
        "    lista_produtos.append(Produto(\"Geladeira Consul\", 0.751, 999.90))\n",
        "    lista_produtos.append(Produto(\"Iphone 6\", 0.0000899, 2911.12))\n",
        "    lista_produtos.append(Produto(\"TV 55' \", 0.400, 4346.99))\n",
        "    lista_produtos.append(Produto(\"TV 50' \", 0.290, 3999.90))\n",
        "    lista_produtos.append(Produto(\"TV 42' \", 0.200, 2999.00))\n",
        "    lista_produtos.append(Produto(\"Notebook Dell\", 0.00350, 2499.90))\n",
        "    lista_produtos.append(Produto(\"Ventilador Panasonic\", 0.496, 199.90))\n",
        "    lista_produtos.append(Produto(\"Microondas Electrolux\", 0.0424, 308.66))\n",
        "    lista_produtos.append(Produto(\"Microondas LG\", 0.0544, 429.90))\n",
        "    lista_produtos.append(Produto(\"Microondas Panasonic\", 0.0319, 299.29))\n",
        "    lista_produtos.append(Produto(\"Geladeira Brastemp\", 0.635, 849.00))\n",
        "    lista_produtos.append(Produto(\"Geladeira Consul\", 0.870, 1199.89))\n",
        "    lista_produtos.append(Produto(\"Notebook Lenovo\", 0.498, 1999.90))\n",
        "    lista_produtos.append(Produto(\"Notebook Asus\", 0.527, 3999.00))\n",
        "    \n",
        "    # Criamos uma lista para armazenar as informações do produtos\n",
        "    espacos = []\n",
        "    valores = []\n",
        "    nomes = []\n",
        "    # Inicializamos as listas\n",
        "    for produto in lista_produtos:\n",
        "        espacos.append(produto.espaco)\n",
        "        valores.append(produto.valor)\n",
        "        nomes.append(produto.nome)"
      ],
      "execution_count": 10,
      "outputs": []
    },
    {
      "cell_type": "code",
      "metadata": {
        "id": "p3njRr95TiL9",
        "colab_type": "code",
        "colab": {
          "base_uri": "https://localhost:8080/",
          "height": 102
        },
        "outputId": "20b361ec-dcc5-489c-aead-093baba80430"
      },
      "source": [
        "for i in range(len(lista_produtos)):\n",
        "        if lista_produtos[i-1].valor < lista_produtos[i].valor:\n",
        "          if lista_produtos[i-1].espaco < lista_produtos[i].espaco:\n",
        "            print(\"Nome: %s R$ %s \" % (lista_produtos[i].nome,\n",
        "                                       lista_produtos[i].valor))\n",
        "            \n",
        "    # Mostra os valores em um grafico durante as gerações\n"
      ],
      "execution_count": 15,
      "outputs": [
        {
          "output_type": "stream",
          "text": [
            "Nome: TV 55'  R$ 4346.99 \n",
            "Nome: Microondas LG R$ 429.9 \n",
            "Nome: Geladeira Brastemp R$ 849.0 \n",
            "Nome: Geladeira Consul R$ 1199.89 \n",
            "Nome: Notebook Asus R$ 3999.0 \n"
          ],
          "name": "stdout"
        }
      ]
    }
  ]
}