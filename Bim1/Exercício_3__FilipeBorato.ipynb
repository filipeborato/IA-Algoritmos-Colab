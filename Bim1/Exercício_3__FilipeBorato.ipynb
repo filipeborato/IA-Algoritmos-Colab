{
  "nbformat": 4,
  "nbformat_minor": 0,
  "metadata": {
    "colab": {
      "name": "Exercício 3 _FilipeBorato.ipynb",
      "provenance": [],
      "collapsed_sections": []
    },
    "kernelspec": {
      "name": "python3",
      "display_name": "Python 3"
    }
  },
  "cells": [
    {
      "cell_type": "code",
      "metadata": {
        "id": "G5oFG6fSj0CG",
        "colab_type": "code",
        "colab": {
          "base_uri": "https://localhost:8080/",
          "height": 34
        },
        "outputId": "99780e39-2abb-47a4-8820-cd814002d5b3"
      },
      "source": [
        "%tensorflow_version 1.x"
      ],
      "execution_count": 1,
      "outputs": [
        {
          "output_type": "stream",
          "text": [
            "TensorFlow 1.x selected.\n"
          ],
          "name": "stdout"
        }
      ]
    },
    {
      "cell_type": "markdown",
      "metadata": {
        "id": "TxTEWb_mj6g9",
        "colab_type": "text"
      },
      "source": [
        "# PlaceHolders\n",
        "• Crie\tum\tplaceholder que\treceba\tdados\tdo\ttipo\tfloat,\te\tque\ttenha\to\t\n",
        "formato\tde\tmatriz\t2x5.\n",
        "\n",
        "• Crie\tuma\tmatriz\t2x5\tutilizando\tos\tmétodos\tlinspace e\treshape.\n",
        "\n",
        "• Com\tesses\tdados\tfaça\tuma\toperação\tde\tdivisão\tpor\t4\tdos\tvalores\t\n",
        "contidos\tno\tplaceholder.\n",
        "\n",
        "• Altere\ta\toperação\tde\tdivisão\tpor\tsubtração,\te\tsubtraia\tdo\tplaceholder\n",
        "o\tvalor\t20."
      ]
    },
    {
      "cell_type": "code",
      "metadata": {
        "id": "uKjM3ZvnkQWy",
        "colab_type": "code",
        "colab": {
          "base_uri": "https://localhost:8080/",
          "height": 34
        },
        "outputId": "5a091e3d-859d-47ed-b98b-bd485ec05b49"
      },
      "source": [
        "import tensorflow as tf\n",
        "import numpy as np\n",
        "print(tf.__version__)"
      ],
      "execution_count": 2,
      "outputs": [
        {
          "output_type": "stream",
          "text": [
            "1.15.2\n"
          ],
          "name": "stdout"
        }
      ]
    },
    {
      "cell_type": "code",
      "metadata": {
        "id": "BqH4OmEukoYi",
        "colab_type": "code",
        "colab": {}
      },
      "source": [
        "ph = tf.placeholder(float, [2,5])"
      ],
      "execution_count": 0,
      "outputs": []
    },
    {
      "cell_type": "code",
      "metadata": {
        "id": "2eWiLqihylNa",
        "colab_type": "code",
        "colab": {
          "base_uri": "https://localhost:8080/",
          "height": 51
        },
        "outputId": "a9ae1fa3-4999-417c-c4f0-b626bd7aae65"
      },
      "source": [
        "array  = np.linspace(1,10,10)\n",
        "dados = np.reshape(array,[2,5])\n",
        "print(dados)"
      ],
      "execution_count": 13,
      "outputs": [
        {
          "output_type": "stream",
          "text": [
            "[[ 1.  2.  3.  4.  5.]\n",
            " [ 6.  7.  8.  9. 10.]]\n"
          ],
          "name": "stdout"
        }
      ]
    },
    {
      "cell_type": "code",
      "metadata": {
        "id": "8_HBbI4g1OUn",
        "colab_type": "code",
        "colab": {}
      },
      "source": [
        "op = ph/4"
      ],
      "execution_count": 0,
      "outputs": []
    },
    {
      "cell_type": "code",
      "metadata": {
        "id": "l3hvtpYgzqZ5",
        "colab_type": "code",
        "colab": {
          "base_uri": "https://localhost:8080/",
          "height": 51
        },
        "outputId": "4f56db5e-db30-4e4c-8277-1c7ea33468b6"
      },
      "source": [
        "with tf.Session() as sess:\n",
        "  result = sess.run(op,feed_dict = {ph : dados})\n",
        "  print(result)"
      ],
      "execution_count": 16,
      "outputs": [
        {
          "output_type": "stream",
          "text": [
            "[[0.25 0.5  0.75 1.   1.25]\n",
            " [1.5  1.75 2.   2.25 2.5 ]]\n"
          ],
          "name": "stdout"
        }
      ]
    },
    {
      "cell_type": "code",
      "metadata": {
        "id": "8yi20oia0UeW",
        "colab_type": "code",
        "colab": {}
      },
      "source": [
        "op = ph-20"
      ],
      "execution_count": 0,
      "outputs": []
    },
    {
      "cell_type": "code",
      "metadata": {
        "id": "lvT6LWgG0dEz",
        "colab_type": "code",
        "colab": {
          "base_uri": "https://localhost:8080/",
          "height": 51
        },
        "outputId": "475ca0c2-7ab5-4921-b190-09c5e71d783d"
      },
      "source": [
        "with tf.Session() as sess:\n",
        "  result = sess.run(op,feed_dict = {ph : dados})\n",
        "  print(result)"
      ],
      "execution_count": 18,
      "outputs": [
        {
          "output_type": "stream",
          "text": [
            "[[-19. -18. -17. -16. -15.]\n",
            " [-14. -13. -12. -11. -10.]]\n"
          ],
          "name": "stdout"
        }
      ]
    },
    {
      "cell_type": "markdown",
      "metadata": {
        "id": "1HuLBxJB0s0k",
        "colab_type": "text"
      },
      "source": [
        "• Crie\tum\tplaceholder que\treceba\tdados\tdo\ttipo\tfloat,\te\tque\ttenha\to\t\n",
        "formato\tde\tmatriz\t3\tX None.\n",
        "\n",
        "• Crie\tuma\tmatriz\t3\tX None utilizando\tos\tmétodos\tlinspace e\treshape.\n",
        "\n",
        "• Com\tesses\tdados\tfaça\tuma\toperação\tde\tmultiplicação\tpor\t2\tdos\t\n",
        "valores\tcontidos\tno\tplaceholder."
      ]
    },
    {
      "cell_type": "code",
      "metadata": {
        "id": "rOk2uSdM07fo",
        "colab_type": "code",
        "colab": {}
      },
      "source": [
        "ph = tf.placeholder(float, [3,None])"
      ],
      "execution_count": 0,
      "outputs": []
    },
    {
      "cell_type": "code",
      "metadata": {
        "id": "iPrwxreC1N1b",
        "colab_type": "code",
        "colab": {
          "base_uri": "https://localhost:8080/",
          "height": 68
        },
        "outputId": "d9e6f9a0-5986-44f8-f3f7-fdea569ab69e"
      },
      "source": [
        "array  = np.linspace(1,30,30)\n",
        "dados = np.reshape(array,[3,10])\n",
        "print(dados)"
      ],
      "execution_count": 34,
      "outputs": [
        {
          "output_type": "stream",
          "text": [
            "[[ 1.  2.  3.  4.  5.  6.  7.  8.  9. 10.]\n",
            " [11. 12. 13. 14. 15. 16. 17. 18. 19. 20.]\n",
            " [21. 22. 23. 24. 25. 26. 27. 28. 29. 30.]]\n"
          ],
          "name": "stdout"
        }
      ]
    },
    {
      "cell_type": "code",
      "metadata": {
        "id": "ndQZ96bX2cic",
        "colab_type": "code",
        "colab": {}
      },
      "source": [
        "op = ph*2"
      ],
      "execution_count": 0,
      "outputs": []
    },
    {
      "cell_type": "code",
      "metadata": {
        "id": "9JtG88lG2jqr",
        "colab_type": "code",
        "colab": {
          "base_uri": "https://localhost:8080/",
          "height": 68
        },
        "outputId": "2b9435c4-bbd8-4191-aa8e-eb0945142670"
      },
      "source": [
        "with tf.Session() as sess:\n",
        "  result = sess.run(op,feed_dict = {ph : dados})\n",
        "  print(result)"
      ],
      "execution_count": 36,
      "outputs": [
        {
          "output_type": "stream",
          "text": [
            "[[ 2.  4.  6.  8. 10. 12. 14. 16. 18. 20.]\n",
            " [22. 24. 26. 28. 30. 32. 34. 36. 38. 40.]\n",
            " [42. 44. 46. 48. 50. 52. 54. 56. 58. 60.]]\n"
          ],
          "name": "stdout"
        }
      ]
    }
  ]
}