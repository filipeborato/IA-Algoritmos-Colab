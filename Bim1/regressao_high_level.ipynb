{
 "cells": [
  {
   "cell_type": "markdown",
   "metadata": {
    "colab_type": "text",
    "id": "lzr61B_7l_mg"
   },
   "source": [
    "# Quem estiver usando COLAB"
   ]
  },
  {
   "cell_type": "code",
   "execution_count": 0,
   "metadata": {
    "colab": {},
    "colab_type": "code",
    "id": "3iaHx4T8N7Bj"
   },
   "outputs": [],
   "source": [
    "from google.colab import drive\n",
    "# Montar o Google Drive\n",
    "drive.mount('/content/drive')"
   ]
  },
  {
   "cell_type": "code",
   "execution_count": 0,
   "metadata": {
    "colab": {},
    "colab_type": "code",
    "id": "_TlL4t34mGBs"
   },
   "outputs": [],
   "source": [
    "# lib de estrutura e análise de dados.\n",
    "import pandas as pd\n",
    "# importa database em um arquivo .csv (necessário indicar o diretório)\n",
    "base = pd.read_csv('/content/drive/My Drive/Colab Notebooks/Aula 4/house_prices.csv')\n",
    "# exibe os valores\n",
    "base.head()"
   ]
  },
  {
   "cell_type": "markdown",
   "metadata": {
    "colab_type": "text",
    "id": "zdbsS8fRmTB5"
   },
   "source": [
    "# Quem estiver usando ANACONDA"
   ]
  },
  {
   "cell_type": "code",
   "execution_count": 0,
   "metadata": {
    "colab": {},
    "colab_type": "code",
    "id": "JRrTEywgN5Eu"
   },
   "outputs": [],
   "source": [
    "# necessário instalação de pacote pandas.\n",
    "# lib de estrutura e análise de dados.\n",
    "import pandas as pd\n",
    "# importa database em um arquivo .csv (neste caso no mesmo diretório)\n",
    "base = pd.read_csv('house_prices.csv')\n",
    "# exibe os valores\n",
    "base.head()"
   ]
  },
  {
   "cell_type": "markdown",
   "metadata": {
    "colab_type": "text",
    "id": "oyAWPIvdmbFB"
   },
   "source": [
    "# INÍCIO TRATAMENTO DE DADOS"
   ]
  },
  {
   "cell_type": "code",
   "execution_count": 0,
   "metadata": {
    "colab": {},
    "colab_type": "code",
    "id": "s27vXhstN5E2"
   },
   "outputs": [],
   "source": [
    "# exibe o nome das colunas\n",
    "base.columns"
   ]
  },
  {
   "cell_type": "code",
   "execution_count": 0,
   "metadata": {
    "colab": {},
    "colab_type": "code",
    "id": "gX7LwxadN5E7"
   },
   "outputs": [],
   "source": [
    "colunas_usadas = ['price', 'bedrooms', 'bathrooms', 'sqft_living',\n",
    "       'sqft_lot', 'floors', 'waterfront', 'view', 'condition', 'grade',\n",
    "       'sqft_above', 'sqft_basement', 'yr_built', 'yr_renovated', 'zipcode',\n",
    "       'lat', 'long']"
   ]
  },
  {
   "cell_type": "code",
   "execution_count": 0,
   "metadata": {
    "colab": {},
    "colab_type": "code",
    "id": "SIunHqO1N5E_"
   },
   "outputs": [],
   "source": [
    "# seleciono apenas as colunas com informações relevantes\n",
    "colunas_usadas"
   ]
  },
  {
   "cell_type": "code",
   "execution_count": 0,
   "metadata": {
    "colab": {},
    "colab_type": "code",
    "id": "KN0WYBHVN5FD"
   },
   "outputs": [],
   "source": [
    "# ANACONDA\n",
    "base = pd.read_csv('house_prices.csv', usecols = colunas_usadas)"
   ]
  },
  {
   "cell_type": "code",
   "execution_count": 0,
   "metadata": {
    "colab": {},
    "colab_type": "code",
    "id": "ks2IXWfgw-0E"
   },
   "outputs": [],
   "source": [
    "# COLAB\n",
    "base = pd.read_csv('/content/drive/My Drive/Colab Notebooks/Aula 4/house_prices.csv', usecols = colunas_usadas)"
   ]
  },
  {
   "cell_type": "code",
   "execution_count": 0,
   "metadata": {
    "colab": {},
    "colab_type": "code",
    "id": "K-bl6lxGN5FI"
   },
   "outputs": [],
   "source": [
    "base.head()"
   ]
  },
  {
   "cell_type": "code",
   "execution_count": 0,
   "metadata": {
    "colab": {},
    "colab_type": "code",
    "id": "G_1ankLkN5FN"
   },
   "outputs": [],
   "source": [
    "# anteriormente nos usamos o conceito de padronização, onde os dados foram escalonados.\n",
    "# para esse exemplo vamos usar o conceito de normalização (0 - 1).\n",
    "from sklearn.preprocessing import MinMaxScaler\n",
    "scaler_x = MinMaxScaler()\n",
    "# inicializamos nosso scaler com os dados, retiramos o PRICE que é nosso objetivo.\n",
    "base[['bedrooms', 'bathrooms', 'sqft_living',\n",
    "       'sqft_lot', 'floors', 'waterfront', 'view', 'condition', 'grade',\n",
    "       'sqft_above', 'sqft_basement', 'yr_built', 'yr_renovated', 'zipcode',\n",
    "       'lat', 'long']] = scaler_x.fit_transform(base[['bedrooms', 'bathrooms', 'sqft_living',\n",
    "       'sqft_lot', 'floors', 'waterfront', 'view', 'condition', 'grade',\n",
    "       'sqft_above', 'sqft_basement', 'yr_built', 'yr_renovated', 'zipcode',\n",
    "       'lat', 'long']])\n",
    "# para cada coluna ele recebe o scaler dos valores de X."
   ]
  },
  {
   "cell_type": "code",
   "execution_count": 0,
   "metadata": {
    "colab": {},
    "colab_type": "code",
    "id": "KqKVK7iHN5FR"
   },
   "outputs": [],
   "source": [
    "# visualização dos dados normalizados\n",
    "base.head()"
   ]
  },
  {
   "cell_type": "code",
   "execution_count": 0,
   "metadata": {
    "colab": {},
    "colab_type": "code",
    "id": "wfSJCD0yN5FU"
   },
   "outputs": [],
   "source": [
    "# para o preço que seria considerado nosso Y faremos tb a normalização.\n",
    "scaler_y = MinMaxScaler()\n",
    "base[['price']] = scaler_y.fit_transform(base[['price']])"
   ]
  },
  {
   "cell_type": "code",
   "execution_count": 0,
   "metadata": {
    "colab": {},
    "colab_type": "code",
    "id": "f-8egpZpN5FX"
   },
   "outputs": [],
   "source": [
    "# visualização dos dados normalizados\n",
    "base.head()"
   ]
  },
  {
   "cell_type": "code",
   "execution_count": 0,
   "metadata": {
    "colab": {},
    "colab_type": "code",
    "id": "VTqMq4RUN5Fb"
   },
   "outputs": [],
   "source": [
    "# na variável X nos temos os atributos previsores, logo não queremos os valores do preço nela.\n",
    "X = base.drop('price', axis = 1) # apaga a coluna do preço.\n",
    "y = base.price"
   ]
  },
  {
   "cell_type": "code",
   "execution_count": 0,
   "metadata": {
    "colab": {},
    "colab_type": "code",
    "id": "txQf8IgNN5Fe"
   },
   "outputs": [],
   "source": [
    "# visualizar os atributos.\n",
    "X.head()"
   ]
  },
  {
   "cell_type": "code",
   "execution_count": 0,
   "metadata": {
    "colab": {},
    "colab_type": "code",
    "id": "4M9E9XolN5Fi"
   },
   "outputs": [],
   "source": [
    "# visualizar os atributos.\n",
    "y.head()"
   ]
  },
  {
   "cell_type": "code",
   "execution_count": 0,
   "metadata": {
    "colab": {},
    "colab_type": "code",
    "id": "k-PWZFzvN5Fk"
   },
   "outputs": [],
   "source": [
    "# ajuste dos dados para criação das classes.\n",
    "previsores_colunas = colunas_usadas[1:17] # posição 0 é o preço\n",
    "previsores_colunas"
   ]
  },
  {
   "cell_type": "markdown",
   "metadata": {
    "colab_type": "text",
    "id": "qEZKAMBxN5Fn"
   },
   "source": [
    "# FIM TRATAMENTO DE DADOS."
   ]
  },
  {
   "cell_type": "code",
   "execution_count": 0,
   "metadata": {
    "colab": {},
    "colab_type": "code",
    "id": "YbH9SlPW1Rue"
   },
   "outputs": [],
   "source": [
    "%tensorflow_version 1.x"
   ]
  },
  {
   "cell_type": "code",
   "execution_count": 0,
   "metadata": {
    "colab": {},
    "colab_type": "code",
    "id": "Z-DcU1RFN5Fo"
   },
   "outputs": [],
   "source": [
    "import tensorflow as tf"
   ]
  },
  {
   "cell_type": "code",
   "execution_count": 0,
   "metadata": {
    "colab": {},
    "colab_type": "code",
    "id": "QrWqf7KM1Sve"
   },
   "outputs": [],
   "source": [
    "tf.__version__"
   ]
  },
  {
   "cell_type": "code",
   "execution_count": 0,
   "metadata": {
    "colab": {},
    "colab_type": "code",
    "id": "YNFWKgn2N5Ft"
   },
   "outputs": [],
   "source": [
    "# vamos criar um for para passar nossas colunas para um array que será usado com o X.\n",
    "# como os valores de X são numéricos, vamos usar um feature_column.numeric.\n",
    "colunas = [tf.feature_column.numeric_column(key = c) for c in previsores_colunas]"
   ]
  },
  {
   "cell_type": "code",
   "execution_count": 0,
   "metadata": {
    "colab": {},
    "colab_type": "code",
    "id": "YBdNvWBVN5Fw"
   },
   "outputs": [],
   "source": [
    "# visualizar os valores das colunas.\n",
    "print(colunas[2])"
   ]
  },
  {
   "cell_type": "markdown",
   "metadata": {
    "colab_type": "text",
    "id": "XUUvnSXH18lx"
   },
   "source": [
    "# Separar a base de dados\n",
    "\n",
    "Vamos separa a base entre treinamento e testes"
   ]
  },
  {
   "cell_type": "code",
   "execution_count": 0,
   "metadata": {
    "colab": {},
    "colab_type": "code",
    "id": "M2vnxwVsN5Fy"
   },
   "outputs": [],
   "source": [
    "# agora precisamos criar uma base para testes e outra para o treinamento, normalmente usado 30, 70.\n",
    "from sklearn.model_selection import train_test_split\n",
    "X_treinamento, X_teste, y_treinamento, y_teste = train_test_split(X, y, test_size = 0.3)"
   ]
  },
  {
   "cell_type": "code",
   "execution_count": 0,
   "metadata": {
    "colab": {},
    "colab_type": "code",
    "id": "F9_m5huTN5F2"
   },
   "outputs": [],
   "source": [
    "# visualizar o array X de treino.\n",
    "X_treinamento.shape"
   ]
  },
  {
   "cell_type": "code",
   "execution_count": 0,
   "metadata": {
    "colab": {},
    "colab_type": "code",
    "id": "K-6OA2UXN5F7"
   },
   "outputs": [],
   "source": [
    "# visualizar o array Y de treino.\n",
    "y_treinamento.shape"
   ]
  },
  {
   "cell_type": "code",
   "execution_count": 0,
   "metadata": {
    "colab": {},
    "colab_type": "code",
    "id": "ZK2axjHuN5F9"
   },
   "outputs": [],
   "source": [
    "# visualizar o array X de teste.\n",
    "X_teste.shape"
   ]
  },
  {
   "cell_type": "markdown",
   "metadata": {
    "colab_type": "text",
    "id": "RKg2BZdo2Vc7"
   },
   "source": [
    "# FUNÇÃO DE TREINAMENTO"
   ]
  },
  {
   "cell_type": "code",
   "execution_count": 0,
   "metadata": {
    "colab": {},
    "colab_type": "code",
    "id": "AVAddC9FN5F_"
   },
   "outputs": [],
   "source": [
    "# define a função de treinamento.\n",
    "# passamos as entradas dos valores X e Y que foram separados para testes.\n",
    "# batch_size é definido com 32 para que o alg não carregue de uma só vez todos os dados.\n",
    "# \n",
    "funcao_treinamento = tf.estimator.inputs.pandas_input_fn(x = X_treinamento, \n",
    "                                                         y = y_treinamento,\n",
    "                                                         batch_size = 32, \n",
    "                                                         num_epochs = None, \n",
    "                                                         shuffle = True)"
   ]
  },
  {
   "cell_type": "markdown",
   "metadata": {
    "colab_type": "text",
    "id": "Xa29iBGD2Yub"
   },
   "source": [
    "# FUNÇÃO DE TESTE"
   ]
  },
  {
   "cell_type": "code",
   "execution_count": 0,
   "metadata": {
    "colab": {},
    "colab_type": "code",
    "id": "5qSBEb7gN5GB"
   },
   "outputs": [],
   "source": [
    "# define a função de teste.\n",
    "funcao_teste = tf.estimator.inputs.pandas_input_fn(x = X_teste, \n",
    "                                                   y = y_teste,\n",
    "                                                   batch_size = 32, \n",
    "                                                   num_epochs = 10000, \n",
    "                                                   shuffle = False)"
   ]
  },
  {
   "cell_type": "markdown",
   "metadata": {
    "colab_type": "text",
    "id": "zUlRWWxn2d45"
   },
   "source": [
    "# ALGORITMO - REGRESSÃO LINEAR"
   ]
  },
  {
   "cell_type": "code",
   "execution_count": 0,
   "metadata": {
    "colab": {},
    "colab_type": "code",
    "id": "-1rinf3oN5GE"
   },
   "outputs": [],
   "source": [
    "# função do regressor.\n",
    "regressor = tf.estimator.LinearRegressor(feature_columns=colunas)"
   ]
  },
  {
   "cell_type": "markdown",
   "metadata": {
    "colab_type": "text",
    "id": "vTog7VhF2qqs"
   },
   "source": [
    "TREINAMENTO..."
   ]
  },
  {
   "cell_type": "code",
   "execution_count": 0,
   "metadata": {
    "colab": {},
    "colab_type": "code",
    "id": "ZEeWXRNaN5GG"
   },
   "outputs": [],
   "source": [
    "# com o regressor podemos fazer o treinamento.\n",
    "regressor.train(input_fn=funcao_treinamento, steps = 10000)"
   ]
  },
  {
   "cell_type": "code",
   "execution_count": 0,
   "metadata": {
    "colab": {},
    "colab_type": "code",
    "id": "DuZ6S_7hN5GJ"
   },
   "outputs": [],
   "source": [
    "# calculo das metricas de treinamento.\n",
    "metricas_treinamento = regressor.evaluate(input_fn=funcao_treinamento, steps = 10000)"
   ]
  },
  {
   "cell_type": "markdown",
   "metadata": {
    "colab_type": "text",
    "id": "BAkfvRuG2tfA"
   },
   "source": [
    "TESTES..."
   ]
  },
  {
   "cell_type": "code",
   "execution_count": 0,
   "metadata": {
    "colab": {},
    "colab_type": "code",
    "id": "3BC5KFupN5GM"
   },
   "outputs": [],
   "source": [
    "# calculo das metricas de testes. (função de avaliação)\n",
    "metricas_teste = regressor.evaluate(input_fn=funcao_teste, steps = 10000)"
   ]
  },
  {
   "cell_type": "code",
   "execution_count": 0,
   "metadata": {
    "colab": {},
    "colab_type": "code",
    "id": "OQFiBrwTN5GP"
   },
   "outputs": [],
   "source": [
    "# exibindo valores da métrica.\n",
    "metricas_treinamento"
   ]
  },
  {
   "cell_type": "code",
   "execution_count": 0,
   "metadata": {
    "colab": {},
    "colab_type": "code",
    "id": "K_utx6uNN5GR"
   },
   "outputs": [],
   "source": [
    "# exibindo valores da métrica. (valores para análise de resultados.)\n",
    "metricas_teste"
   ]
  },
  {
   "cell_type": "markdown",
   "metadata": {
    "colab_type": "text",
    "id": "1xpDOBTV2x99"
   },
   "source": [
    "PREVISÃO..."
   ]
  },
  {
   "cell_type": "code",
   "execution_count": 0,
   "metadata": {
    "colab": {},
    "colab_type": "code",
    "id": "9yCStsj_N5GU"
   },
   "outputs": [],
   "source": [
    "# função de previsão, gera os valores para cada um dos valores de X.\n",
    "funcao_previsao = tf.estimator.inputs.pandas_input_fn(x = X_teste, shuffle = False)"
   ]
  },
  {
   "cell_type": "code",
   "execution_count": 0,
   "metadata": {
    "colab": {},
    "colab_type": "code",
    "id": "9v0oDE1_N5GX"
   },
   "outputs": [],
   "source": [
    "previsoes = regressor.predict(input_fn=funcao_previsao)"
   ]
  },
  {
   "cell_type": "code",
   "execution_count": 0,
   "metadata": {
    "colab": {},
    "colab_type": "code",
    "id": "Rn5YuZ8EN5GZ"
   },
   "outputs": [],
   "source": [
    "# exibe valores previstos.\n",
    "list(previsoes)"
   ]
  },
  {
   "cell_type": "code",
   "execution_count": 0,
   "metadata": {
    "colab": {},
    "colab_type": "code",
    "id": "L6WQEGWGN5Gc"
   },
   "outputs": [],
   "source": [
    "# para o calculo do erro, vamos criar um array, que irá receber cada um dos valores gerados pela função previsão.\n",
    "valores_previsoes = []\n",
    "for p in regressor.predict(input_fn=funcao_previsao):\n",
    "    valores_previsoes.append(p['predictions'])"
   ]
  },
  {
   "cell_type": "code",
   "execution_count": 0,
   "metadata": {
    "colab": {},
    "colab_type": "code",
    "id": "8aK4bON0N5Gf"
   },
   "outputs": [],
   "source": [
    "# exibe array com os valores.\n",
    "# com esse valores iremos calcular os erros MSE e MAE.\n",
    "valores_previsoes"
   ]
  },
  {
   "cell_type": "code",
   "execution_count": 0,
   "metadata": {
    "colab": {},
    "colab_type": "code",
    "id": "EtUF_UREN5Gh"
   },
   "outputs": [],
   "source": [
    "# como os valores foram normalizados, precisamos desnormaliza-los.\n",
    "import numpy as np\n",
    "# colocar no formato de matriz.\n",
    "valores_previsoes = np.asarray(valores_previsoes).reshape(-1,1)"
   ]
  },
  {
   "cell_type": "code",
   "execution_count": 0,
   "metadata": {
    "colab": {},
    "colab_type": "code",
    "id": "P6V-t3YGN5Gk"
   },
   "outputs": [],
   "source": [
    "valores_previsoes"
   ]
  },
  {
   "cell_type": "code",
   "execution_count": 0,
   "metadata": {
    "colab": {},
    "colab_type": "code",
    "id": "Be3a4J1oN5Gm"
   },
   "outputs": [],
   "source": [
    "valores_previsoes = scaler_y.inverse_transform(valores_previsoes)\n",
    "valores_previsoes"
   ]
  },
  {
   "cell_type": "code",
   "execution_count": 0,
   "metadata": {
    "colab": {},
    "colab_type": "code",
    "id": "uvDlpr_4N5Gp"
   },
   "outputs": [],
   "source": [
    "y_teste"
   ]
  },
  {
   "cell_type": "code",
   "execution_count": 0,
   "metadata": {
    "colab": {},
    "colab_type": "code",
    "id": "6L2GFUReN5Gt"
   },
   "outputs": [],
   "source": [
    "y_teste.shape"
   ]
  },
  {
   "cell_type": "code",
   "execution_count": 0,
   "metadata": {
    "colab": {},
    "colab_type": "code",
    "id": "XKshJW1mN5Gz"
   },
   "outputs": [],
   "source": [
    "y_teste2 = y_teste.values.reshape(-1,1)\n",
    "y_teste2.shape"
   ]
  },
  {
   "cell_type": "code",
   "execution_count": 0,
   "metadata": {
    "colab": {},
    "colab_type": "code",
    "id": "ZpAFrgUHN5G2"
   },
   "outputs": [],
   "source": [
    "y_teste2 = scaler_y.inverse_transform(y_teste2)"
   ]
  },
  {
   "cell_type": "code",
   "execution_count": 0,
   "metadata": {
    "colab": {},
    "colab_type": "code",
    "id": "aKidmZhSN5G4"
   },
   "outputs": [],
   "source": [
    "y_teste2"
   ]
  },
  {
   "cell_type": "code",
   "execution_count": 0,
   "metadata": {
    "colab": {},
    "colab_type": "code",
    "id": "TqizD2rIN5G8"
   },
   "outputs": [],
   "source": [
    "from sklearn.metrics import mean_absolute_error\n",
    "mae = mean_absolute_error(y_teste2, valores_previsoes)"
   ]
  },
  {
   "cell_type": "code",
   "execution_count": 0,
   "metadata": {
    "colab": {},
    "colab_type": "code",
    "id": "lMn6shVDN5HA"
   },
   "outputs": [],
   "source": [
    "mae"
   ]
  }
 ],
 "metadata": {
  "colab": {
   "collapsed_sections": [
    "zdbsS8fRmTB5"
   ],
   "name": "regressao_high_level.ipynb",
   "provenance": []
  },
  "kernelspec": {
   "display_name": "Python 3",
   "language": "python",
   "name": "python3"
  },
  "language_info": {
   "codemirror_mode": {
    "name": "ipython",
    "version": 3
   },
   "file_extension": ".py",
   "mimetype": "text/x-python",
   "name": "python",
   "nbconvert_exporter": "python",
   "pygments_lexer": "ipython3",
   "version": "3.7.6"
  }
 },
 "nbformat": 4,
 "nbformat_minor": 1
}
