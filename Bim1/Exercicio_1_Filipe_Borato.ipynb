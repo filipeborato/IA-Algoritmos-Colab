{
  "nbformat": 4,
  "nbformat_minor": 0,
  "metadata": {
    "colab": {
      "name": "Exercicio 1 - Filipe Borato.ipynb",
      "provenance": []
    },
    "kernelspec": {
      "name": "python3",
      "display_name": "Python 3"
    }
  },
  "cells": [
    {
      "cell_type": "code",
      "metadata": {
        "colab_type": "code",
        "id": "NeWVBhf1VxlH",
        "outputId": "b213f64b-75b6-42f6-b779-055dece5ff6b",
        "colab": {
          "base_uri": "https://localhost:8080/",
          "height": 34
        }
      },
      "source": [
        "%tensorflow_version 1.x"
      ],
      "execution_count": 1,
      "outputs": [
        {
          "output_type": "stream",
          "text": [
            "TensorFlow 1.x selected.\n"
          ],
          "name": "stdout"
        }
      ]
    },
    {
      "cell_type": "code",
      "metadata": {
        "id": "kKkPqHfV0bf_",
        "colab_type": "code",
        "colab": {
          "base_uri": "https://localhost:8080/",
          "height": 34
        },
        "outputId": "bd59837c-8050-44b7-dce4-3e805cab7ae1"
      },
      "source": [
        "import tensorflow as tf\n",
        "import numpy as np\n",
        "print(tf.__version__)"
      ],
      "execution_count": 25,
      "outputs": [
        {
          "output_type": "stream",
          "text": [
            "1.15.2\n"
          ],
          "name": "stdout"
        }
      ]
    },
    {
      "cell_type": "code",
      "metadata": {
        "id": "8_HBbI4g1OUn",
        "colab_type": "code",
        "colab": {}
      },
      "source": [
        "array = np.linspace(1,100,199)"
      ],
      "execution_count": 0,
      "outputs": []
    },
    {
      "cell_type": "code",
      "metadata": {
        "id": "_1_vZNiH17w5",
        "colab_type": "code",
        "colab": {
          "base_uri": "https://localhost:8080/",
          "height": 306
        },
        "outputId": "2fa38332-2a62-466c-8231-9eecba13d353"
      },
      "source": [
        "print(array)"
      ],
      "execution_count": 6,
      "outputs": [
        {
          "output_type": "stream",
          "text": [
            "[  1.    1.5   2.    2.5   3.    3.5   4.    4.5   5.    5.5   6.    6.5\n",
            "   7.    7.5   8.    8.5   9.    9.5  10.   10.5  11.   11.5  12.   12.5\n",
            "  13.   13.5  14.   14.5  15.   15.5  16.   16.5  17.   17.5  18.   18.5\n",
            "  19.   19.5  20.   20.5  21.   21.5  22.   22.5  23.   23.5  24.   24.5\n",
            "  25.   25.5  26.   26.5  27.   27.5  28.   28.5  29.   29.5  30.   30.5\n",
            "  31.   31.5  32.   32.5  33.   33.5  34.   34.5  35.   35.5  36.   36.5\n",
            "  37.   37.5  38.   38.5  39.   39.5  40.   40.5  41.   41.5  42.   42.5\n",
            "  43.   43.5  44.   44.5  45.   45.5  46.   46.5  47.   47.5  48.   48.5\n",
            "  49.   49.5  50.   50.5  51.   51.5  52.   52.5  53.   53.5  54.   54.5\n",
            "  55.   55.5  56.   56.5  57.   57.5  58.   58.5  59.   59.5  60.   60.5\n",
            "  61.   61.5  62.   62.5  63.   63.5  64.   64.5  65.   65.5  66.   66.5\n",
            "  67.   67.5  68.   68.5  69.   69.5  70.   70.5  71.   71.5  72.   72.5\n",
            "  73.   73.5  74.   74.5  75.   75.5  76.   76.5  77.   77.5  78.   78.5\n",
            "  79.   79.5  80.   80.5  81.   81.5  82.   82.5  83.   83.5  84.   84.5\n",
            "  85.   85.5  86.   86.5  87.   87.5  88.   88.5  89.   89.5  90.   90.5\n",
            "  91.   91.5  92.   92.5  93.   93.5  94.   94.5  95.   95.5  96.   96.5\n",
            "  97.   97.5  98.   98.5  99.   99.5 100. ]\n"
          ],
          "name": "stdout"
        }
      ]
    },
    {
      "cell_type": "code",
      "metadata": {
        "id": "ngBsKTCe2s5F",
        "colab_type": "code",
        "colab": {}
      },
      "source": [
        "a = tf.constant([12,\t4,\t46,\t76,\t18], name = 'a')"
      ],
      "execution_count": 0,
      "outputs": []
    },
    {
      "cell_type": "code",
      "metadata": {
        "id": "PPoFxpvA3pmJ",
        "colab_type": "code",
        "colab": {}
      },
      "source": [
        "b= tf.constant(\t[-10,\t21,\t0,\t19,\t99], name = 'b')"
      ],
      "execution_count": 0,
      "outputs": []
    },
    {
      "cell_type": "code",
      "metadata": {
        "id": "qMvMYFAo4T_B",
        "colab_type": "code",
        "colab": {
          "base_uri": "https://localhost:8080/",
          "height": 34
        },
        "outputId": "5058ed55-39db-4931-cf82-131650e11ce2"
      },
      "source": [
        "print(a,b)"
      ],
      "execution_count": 9,
      "outputs": [
        {
          "output_type": "stream",
          "text": [
            "Tensor(\"a:0\", shape=(5,), dtype=int32) Tensor(\"b:0\", shape=(5,), dtype=int32)\n"
          ],
          "name": "stdout"
        }
      ]
    },
    {
      "cell_type": "code",
      "metadata": {
        "id": "7vz_qzCL5cpc",
        "colab_type": "code",
        "colab": {}
      },
      "source": [
        "soma = a + b"
      ],
      "execution_count": 0,
      "outputs": []
    },
    {
      "cell_type": "code",
      "metadata": {
        "id": "SYD1M1FZ56u_",
        "colab_type": "code",
        "colab": {
          "base_uri": "https://localhost:8080/",
          "height": 34
        },
        "outputId": "cbf4c05a-1aa6-4021-c0f2-3a0a6fd26596"
      },
      "source": [
        "with tf.Session() as sess:\n",
        "  print(sess.run(soma))"
      ],
      "execution_count": 22,
      "outputs": [
        {
          "output_type": "stream",
          "text": [
            "[  2  25  46  95 117]\n"
          ],
          "name": "stdout"
        }
      ]
    },
    {
      "cell_type": "code",
      "metadata": {
        "id": "COXNqCnQ7VSl",
        "colab_type": "code",
        "colab": {}
      },
      "source": [
        "# Codigo para rodar no tensorflow 2.0\n",
        "# tf.compat.v1.disable_eager_execution()\n",
        "# sess =  tf.compat.v1.Session() \n",
        "# print(sess.run(soma))"
      ],
      "execution_count": 0,
      "outputs": []
    },
    {
      "cell_type": "code",
      "metadata": {
        "id": "LCsv3rQX4cNA",
        "colab_type": "code",
        "colab": {}
      },
      "source": [
        "array1 = tf.constant([[1,2],[0,1]])"
      ],
      "execution_count": 0,
      "outputs": []
    },
    {
      "cell_type": "code",
      "metadata": {
        "id": "mh_eNjqPMYXk",
        "colab_type": "code",
        "colab": {}
      },
      "source": [
        "array2 = tf.constant([[4,-1],[5,0]])"
      ],
      "execution_count": 0,
      "outputs": []
    },
    {
      "cell_type": "code",
      "metadata": {
        "id": "aRyQETXsM8Ia",
        "colab_type": "code",
        "colab": {}
      },
      "source": [
        "mul = tf.matmul(array2,array1)"
      ],
      "execution_count": 0,
      "outputs": []
    },
    {
      "cell_type": "code",
      "metadata": {
        "id": "ZneZR5aRNFLK",
        "colab_type": "code",
        "colab": {
          "base_uri": "https://localhost:8080/",
          "height": 187
        },
        "outputId": "481461b1-28af-4245-9705-8efea1bc84e5"
      },
      "source": [
        "with tf.Session() as sess:\n",
        "  print(sess.run(array1))\n",
        "  print('\\n')\n",
        "  print(sess.run(array2))\n",
        "  print('\\n')\n",
        "  print(sess.run(mul))"
      ],
      "execution_count": 30,
      "outputs": [
        {
          "output_type": "stream",
          "text": [
            "[[1 2]\n",
            " [0 1]]\n",
            "\n",
            "\n",
            "[[ 4 -1]\n",
            " [ 5  0]]\n",
            "\n",
            "\n",
            "[[ 4  7]\n",
            " [ 5 10]]\n"
          ],
          "name": "stdout"
        }
      ]
    }
  ]
}