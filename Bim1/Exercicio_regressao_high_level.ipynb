{
  "nbformat": 4,
  "nbformat_minor": 0,
  "metadata": {
    "colab": {
      "name": "Exercicio regressao_high_level.ipynb",
      "provenance": [],
      "collapsed_sections": [
        "zdbsS8fRmTB5"
      ]
    },
    "kernelspec": {
      "display_name": "Python 3",
      "language": "python",
      "name": "python3"
    },
    "language_info": {
      "codemirror_mode": {
        "name": "ipython",
        "version": 3
      },
      "file_extension": ".py",
      "mimetype": "text/x-python",
      "name": "python",
      "nbconvert_exporter": "python",
      "pygments_lexer": "ipython3",
      "version": "3.7.6"
    }
  },
  "cells": [
    {
      "cell_type": "markdown",
      "metadata": {
        "colab_type": "text",
        "id": "lzr61B_7l_mg"
      },
      "source": [
        "# Quem estiver usando COLAB"
      ]
    },
    {
      "cell_type": "code",
      "metadata": {
        "colab_type": "code",
        "id": "3iaHx4T8N7Bj",
        "outputId": "1c8527f4-551f-487d-85e3-27ee8f3e1402",
        "colab": {
          "base_uri": "https://localhost:8080/",
          "height": 122
        }
      },
      "source": [
        "from google.colab import drive\n",
        "# Montar o Google Drive\n",
        "drive.mount('/content/drive')"
      ],
      "execution_count": 1,
      "outputs": [
        {
          "output_type": "stream",
          "text": [
            "Go to this URL in a browser: https://accounts.google.com/o/oauth2/auth?client_id=947318989803-6bn6qk8qdgf4n4g3pfee6491hc0brc4i.apps.googleusercontent.com&redirect_uri=urn%3aietf%3awg%3aoauth%3a2.0%3aoob&response_type=code&scope=email%20https%3a%2f%2fwww.googleapis.com%2fauth%2fdocs.test%20https%3a%2f%2fwww.googleapis.com%2fauth%2fdrive%20https%3a%2f%2fwww.googleapis.com%2fauth%2fdrive.photos.readonly%20https%3a%2f%2fwww.googleapis.com%2fauth%2fpeopleapi.readonly\n",
            "\n",
            "Enter your authorization code:\n",
            "··········\n",
            "Mounted at /content/drive\n"
          ],
          "name": "stdout"
        }
      ]
    },
    {
      "cell_type": "code",
      "metadata": {
        "colab_type": "code",
        "id": "_TlL4t34mGBs",
        "outputId": "0f125482-812a-465c-eb00-5ab75b88f17f",
        "colab": {
          "base_uri": "https://localhost:8080/",
          "height": 360
        }
      },
      "source": [
        "# lib de estrutura e análise de dados.\n",
        "import pandas as pd\n",
        "# importa database em um arquivo .csv (necessário indicar o diretório)\n",
        "base = pd.read_csv('/content/drive/My Drive/Colab Notebooks/Aula 4/TopTracksSpotify2017.csv')\n",
        "# exibe os valores\n",
        "base.head()"
      ],
      "execution_count": 18,
      "outputs": [
        {
          "output_type": "execute_result",
          "data": {
            "text/html": [
              "<div>\n",
              "<style scoped>\n",
              "    .dataframe tbody tr th:only-of-type {\n",
              "        vertical-align: middle;\n",
              "    }\n",
              "\n",
              "    .dataframe tbody tr th {\n",
              "        vertical-align: top;\n",
              "    }\n",
              "\n",
              "    .dataframe thead th {\n",
              "        text-align: right;\n",
              "    }\n",
              "</style>\n",
              "<table border=\"1\" class=\"dataframe\">\n",
              "  <thead>\n",
              "    <tr style=\"text-align: right;\">\n",
              "      <th></th>\n",
              "      <th>id</th>\n",
              "      <th>name</th>\n",
              "      <th>artists</th>\n",
              "      <th>danceability</th>\n",
              "      <th>energy</th>\n",
              "      <th>key</th>\n",
              "      <th>loudness</th>\n",
              "      <th>mode</th>\n",
              "      <th>speechiness</th>\n",
              "      <th>acousticness</th>\n",
              "      <th>instrumentalness</th>\n",
              "      <th>liveness</th>\n",
              "      <th>valence</th>\n",
              "      <th>tempo</th>\n",
              "      <th>duration_ms</th>\n",
              "      <th>time_signature</th>\n",
              "    </tr>\n",
              "  </thead>\n",
              "  <tbody>\n",
              "    <tr>\n",
              "      <th>0</th>\n",
              "      <td>7qiZfU4dY1lWllzX7mPBI</td>\n",
              "      <td>Shape of You</td>\n",
              "      <td>Ed Sheeran</td>\n",
              "      <td>0.825</td>\n",
              "      <td>0.652</td>\n",
              "      <td>1.0</td>\n",
              "      <td>-3.183</td>\n",
              "      <td>0.0</td>\n",
              "      <td>0.0802</td>\n",
              "      <td>0.5810</td>\n",
              "      <td>0.000000</td>\n",
              "      <td>0.0931</td>\n",
              "      <td>0.931</td>\n",
              "      <td>95.977</td>\n",
              "      <td>233713.0</td>\n",
              "      <td>4.0</td>\n",
              "    </tr>\n",
              "    <tr>\n",
              "      <th>1</th>\n",
              "      <td>5CtI0qwDJkDQGwXD1H1cL</td>\n",
              "      <td>Despacito - Remix</td>\n",
              "      <td>Luis Fonsi</td>\n",
              "      <td>0.694</td>\n",
              "      <td>0.815</td>\n",
              "      <td>2.0</td>\n",
              "      <td>-4.328</td>\n",
              "      <td>1.0</td>\n",
              "      <td>0.1200</td>\n",
              "      <td>0.2290</td>\n",
              "      <td>0.000000</td>\n",
              "      <td>0.0924</td>\n",
              "      <td>0.813</td>\n",
              "      <td>88.931</td>\n",
              "      <td>228827.0</td>\n",
              "      <td>4.0</td>\n",
              "    </tr>\n",
              "    <tr>\n",
              "      <th>2</th>\n",
              "      <td>4aWmUDTfIPGksMNLV2rQP</td>\n",
              "      <td>Despacito (Featuring Daddy Yankee)</td>\n",
              "      <td>Luis Fonsi</td>\n",
              "      <td>0.660</td>\n",
              "      <td>0.786</td>\n",
              "      <td>2.0</td>\n",
              "      <td>-4.757</td>\n",
              "      <td>1.0</td>\n",
              "      <td>0.1700</td>\n",
              "      <td>0.2090</td>\n",
              "      <td>0.000000</td>\n",
              "      <td>0.1120</td>\n",
              "      <td>0.846</td>\n",
              "      <td>177.833</td>\n",
              "      <td>228200.0</td>\n",
              "      <td>4.0</td>\n",
              "    </tr>\n",
              "    <tr>\n",
              "      <th>3</th>\n",
              "      <td>6RUKPb4LETWmmr3iAEQkt</td>\n",
              "      <td>Something Just Like This</td>\n",
              "      <td>The Chainsmokers</td>\n",
              "      <td>0.617</td>\n",
              "      <td>0.635</td>\n",
              "      <td>11.0</td>\n",
              "      <td>-6.769</td>\n",
              "      <td>0.0</td>\n",
              "      <td>0.0317</td>\n",
              "      <td>0.0498</td>\n",
              "      <td>0.000014</td>\n",
              "      <td>0.1640</td>\n",
              "      <td>0.446</td>\n",
              "      <td>103.019</td>\n",
              "      <td>247160.0</td>\n",
              "      <td>4.0</td>\n",
              "    </tr>\n",
              "    <tr>\n",
              "      <th>4</th>\n",
              "      <td>3DXncPQOG4VBw3QHh3S81</td>\n",
              "      <td>I'm the One</td>\n",
              "      <td>DJ Khaled</td>\n",
              "      <td>0.609</td>\n",
              "      <td>0.668</td>\n",
              "      <td>7.0</td>\n",
              "      <td>-4.284</td>\n",
              "      <td>1.0</td>\n",
              "      <td>0.0367</td>\n",
              "      <td>0.0552</td>\n",
              "      <td>0.000000</td>\n",
              "      <td>0.1670</td>\n",
              "      <td>0.811</td>\n",
              "      <td>80.924</td>\n",
              "      <td>288600.0</td>\n",
              "      <td>4.0</td>\n",
              "    </tr>\n",
              "  </tbody>\n",
              "</table>\n",
              "</div>"
            ],
            "text/plain": [
              "                      id  ... time_signature\n",
              "0  7qiZfU4dY1lWllzX7mPBI  ...            4.0\n",
              "1  5CtI0qwDJkDQGwXD1H1cL  ...            4.0\n",
              "2  4aWmUDTfIPGksMNLV2rQP  ...            4.0\n",
              "3  6RUKPb4LETWmmr3iAEQkt  ...            4.0\n",
              "4  3DXncPQOG4VBw3QHh3S81  ...            4.0\n",
              "\n",
              "[5 rows x 16 columns]"
            ]
          },
          "metadata": {
            "tags": []
          },
          "execution_count": 18
        }
      ]
    },
    {
      "cell_type": "markdown",
      "metadata": {
        "colab_type": "text",
        "id": "zdbsS8fRmTB5"
      },
      "source": [
        "# Quem estiver usando ANACONDA"
      ]
    },
    {
      "cell_type": "code",
      "metadata": {
        "colab_type": "code",
        "id": "JRrTEywgN5Eu",
        "colab": {}
      },
      "source": [
        "# necessário instalação de pacote pandas.\n",
        "# lib de estrutura e análise de dados.\n",
        "import pandas as pd\n",
        "# importa database em um arquivo .csv (neste caso no mesmo diretório)\n",
        "base = pd.read_csv('house_prices.csv')\n",
        "# exibe os valores\n",
        "base.head()"
      ],
      "execution_count": 0,
      "outputs": []
    },
    {
      "cell_type": "markdown",
      "metadata": {
        "colab_type": "text",
        "id": "oyAWPIvdmbFB"
      },
      "source": [
        "# INÍCIO TRATAMENTO DE DADOS"
      ]
    },
    {
      "cell_type": "code",
      "metadata": {
        "colab_type": "code",
        "id": "s27vXhstN5E2",
        "outputId": "9c004201-a914-418f-e945-5c9599ceec5a",
        "colab": {
          "base_uri": "https://localhost:8080/",
          "height": 85
        }
      },
      "source": [
        "# exibe o nome das colunas\n",
        "base.columns"
      ],
      "execution_count": 3,
      "outputs": [
        {
          "output_type": "execute_result",
          "data": {
            "text/plain": [
              "Index(['id', 'name', 'artists', 'danceability', 'energy', 'key', 'loudness',\n",
              "       'mode', 'speechiness', 'acousticness', 'instrumentalness', 'liveness',\n",
              "       'valence', 'tempo', 'duration_ms', 'time_signature'],\n",
              "      dtype='object')"
            ]
          },
          "metadata": {
            "tags": []
          },
          "execution_count": 3
        }
      ]
    },
    {
      "cell_type": "code",
      "metadata": {
        "colab_type": "code",
        "id": "gX7LwxadN5E7",
        "colab": {}
      },
      "source": [
        "colunas_usadas = ['danceability', 'energy', 'key', 'loudness',\n",
        "       'mode', 'speechiness', 'acousticness', 'instrumentalness', 'liveness',\n",
        "       'valence', 'tempo', 'duration_ms', 'time_signature']"
      ],
      "execution_count": 0,
      "outputs": []
    },
    {
      "cell_type": "code",
      "metadata": {
        "colab_type": "code",
        "id": "SIunHqO1N5E_",
        "outputId": "c48ec1a1-ee20-4542-c9e7-dc897df1dac2",
        "colab": {
          "base_uri": "https://localhost:8080/",
          "height": 238
        }
      },
      "source": [
        "# seleciono apenas as colunas com informações relevantes\n",
        "colunas_usadas"
      ],
      "execution_count": 23,
      "outputs": [
        {
          "output_type": "execute_result",
          "data": {
            "text/plain": [
              "['danceability',\n",
              " 'energy',\n",
              " 'key',\n",
              " 'loudness',\n",
              " 'mode',\n",
              " 'speechiness',\n",
              " 'acousticness',\n",
              " 'instrumentalness',\n",
              " 'liveness',\n",
              " 'valence',\n",
              " 'tempo',\n",
              " 'duration_ms',\n",
              " 'time_signature']"
            ]
          },
          "metadata": {
            "tags": []
          },
          "execution_count": 23
        }
      ]
    },
    {
      "cell_type": "code",
      "metadata": {
        "colab_type": "code",
        "id": "ks2IXWfgw-0E",
        "colab": {}
      },
      "source": [
        "# COLAB\n",
        "base = pd.read_csv('/content/drive/My Drive/Colab Notebooks/Aula 4/TopTracksSpotify2017.csv', usecols = colunas_usadas)"
      ],
      "execution_count": 0,
      "outputs": []
    },
    {
      "cell_type": "code",
      "metadata": {
        "colab_type": "code",
        "id": "G_1ankLkN5FN",
        "colab": {}
      },
      "source": [
        "# anteriormente nos usamos o conceito de padronização, onde os dados foram escalonados.\n",
        "# para esse exemplo vamos usar o conceito de normalização (0 - 1).\n",
        "from sklearn.preprocessing import MinMaxScaler\n",
        "scaler_x = MinMaxScaler()\n",
        "# inicializamos nosso scaler com os dados, retiramos o PRICE que é nosso objetivo.\n",
        "base[['danceability', 'energy', 'key', 'loudness',\n",
        "       'mode', 'speechiness', 'acousticness', 'instrumentalness', 'liveness',\n",
        "       'valence', 'tempo', 'duration_ms', 'time_signature']] = scaler_x.fit_transform(base[['danceability', 'energy', 'key', 'loudness',\n",
        "       'mode', 'speechiness', 'acousticness', 'instrumentalness', 'liveness',\n",
        "       'valence', 'tempo', 'duration_ms', 'time_signature']])\n",
        "# para cada coluna ele recebe o scaler dos valores de X."
      ],
      "execution_count": 0,
      "outputs": []
    },
    {
      "cell_type": "code",
      "metadata": {
        "colab_type": "code",
        "id": "KqKVK7iHN5FR",
        "outputId": "474b52ef-8698-4684-ac20-6dfcd9c7ab6b",
        "colab": {
          "base_uri": "https://localhost:8080/",
          "height": 204
        }
      },
      "source": [
        "# visualização dos dados normalizados\n",
        "base.head()"
      ],
      "execution_count": 27,
      "outputs": [
        {
          "output_type": "execute_result",
          "data": {
            "text/html": [
              "<div>\n",
              "<style scoped>\n",
              "    .dataframe tbody tr th:only-of-type {\n",
              "        vertical-align: middle;\n",
              "    }\n",
              "\n",
              "    .dataframe tbody tr th {\n",
              "        vertical-align: top;\n",
              "    }\n",
              "\n",
              "    .dataframe thead th {\n",
              "        text-align: right;\n",
              "    }\n",
              "</style>\n",
              "<table border=\"1\" class=\"dataframe\">\n",
              "  <thead>\n",
              "    <tr style=\"text-align: right;\">\n",
              "      <th></th>\n",
              "      <th>danceability</th>\n",
              "      <th>energy</th>\n",
              "      <th>key</th>\n",
              "      <th>loudness</th>\n",
              "      <th>mode</th>\n",
              "      <th>speechiness</th>\n",
              "      <th>acousticness</th>\n",
              "      <th>instrumentalness</th>\n",
              "      <th>liveness</th>\n",
              "      <th>valence</th>\n",
              "      <th>tempo</th>\n",
              "      <th>duration_ms</th>\n",
              "      <th>time_signature</th>\n",
              "    </tr>\n",
              "  </thead>\n",
              "  <tbody>\n",
              "    <tr>\n",
              "      <th>0</th>\n",
              "      <td>0.847534</td>\n",
              "      <td>0.522184</td>\n",
              "      <td>0.090909</td>\n",
              "      <td>0.913192</td>\n",
              "      <td>0.0</td>\n",
              "      <td>0.139774</td>\n",
              "      <td>0.835910</td>\n",
              "      <td>0.000000</td>\n",
              "      <td>0.127515</td>\n",
              "      <td>0.960218</td>\n",
              "      <td>0.167892</td>\n",
              "      <td>0.384366</td>\n",
              "      <td>1.0</td>\n",
              "    </tr>\n",
              "    <tr>\n",
              "      <th>1</th>\n",
              "      <td>0.651719</td>\n",
              "      <td>0.800341</td>\n",
              "      <td>0.181818</td>\n",
              "      <td>0.786896</td>\n",
              "      <td>1.0</td>\n",
              "      <td>0.237371</td>\n",
              "      <td>0.329246</td>\n",
              "      <td>0.000000</td>\n",
              "      <td>0.125755</td>\n",
              "      <td>0.826097</td>\n",
              "      <td>0.111456</td>\n",
              "      <td>0.356880</td>\n",
              "      <td>1.0</td>\n",
              "    </tr>\n",
              "    <tr>\n",
              "      <th>2</th>\n",
              "      <td>0.600897</td>\n",
              "      <td>0.750853</td>\n",
              "      <td>0.181818</td>\n",
              "      <td>0.739576</td>\n",
              "      <td>1.0</td>\n",
              "      <td>0.359980</td>\n",
              "      <td>0.300459</td>\n",
              "      <td>0.000000</td>\n",
              "      <td>0.175050</td>\n",
              "      <td>0.863605</td>\n",
              "      <td>0.823537</td>\n",
              "      <td>0.353352</td>\n",
              "      <td>1.0</td>\n",
              "    </tr>\n",
              "    <tr>\n",
              "      <th>3</th>\n",
              "      <td>0.536622</td>\n",
              "      <td>0.493174</td>\n",
              "      <td>1.000000</td>\n",
              "      <td>0.517648</td>\n",
              "      <td>0.0</td>\n",
              "      <td>0.020844</td>\n",
              "      <td>0.071309</td>\n",
              "      <td>0.000069</td>\n",
              "      <td>0.305835</td>\n",
              "      <td>0.408957</td>\n",
              "      <td>0.224297</td>\n",
              "      <td>0.460011</td>\n",
              "      <td>1.0</td>\n",
              "    </tr>\n",
              "    <tr>\n",
              "      <th>4</th>\n",
              "      <td>0.524664</td>\n",
              "      <td>0.549488</td>\n",
              "      <td>0.636364</td>\n",
              "      <td>0.791749</td>\n",
              "      <td>1.0</td>\n",
              "      <td>0.033104</td>\n",
              "      <td>0.079081</td>\n",
              "      <td>0.000000</td>\n",
              "      <td>0.313380</td>\n",
              "      <td>0.823824</td>\n",
              "      <td>0.047322</td>\n",
              "      <td>0.693131</td>\n",
              "      <td>1.0</td>\n",
              "    </tr>\n",
              "  </tbody>\n",
              "</table>\n",
              "</div>"
            ],
            "text/plain": [
              "   danceability    energy       key  ...     tempo  duration_ms  time_signature\n",
              "0      0.847534  0.522184  0.090909  ...  0.167892     0.384366             1.0\n",
              "1      0.651719  0.800341  0.181818  ...  0.111456     0.356880             1.0\n",
              "2      0.600897  0.750853  0.181818  ...  0.823537     0.353352             1.0\n",
              "3      0.536622  0.493174  1.000000  ...  0.224297     0.460011             1.0\n",
              "4      0.524664  0.549488  0.636364  ...  0.047322     0.693131             1.0\n",
              "\n",
              "[5 rows x 13 columns]"
            ]
          },
          "metadata": {
            "tags": []
          },
          "execution_count": 27
        }
      ]
    },
    {
      "cell_type": "code",
      "metadata": {
        "colab_type": "code",
        "id": "wfSJCD0yN5FU",
        "colab": {}
      },
      "source": [
        "# para o preço que seria considerado nosso Y faremos tb a normalização.\n",
        "scaler_y = MinMaxScaler()\n",
        "base[['danceability']] = scaler_y.fit_transform(base[['danceability']])"
      ],
      "execution_count": 0,
      "outputs": []
    },
    {
      "cell_type": "code",
      "metadata": {
        "colab_type": "code",
        "id": "f-8egpZpN5FX",
        "outputId": "7226de46-36e2-463b-88f9-36f79e2a1325",
        "colab": {
          "base_uri": "https://localhost:8080/",
          "height": 204
        }
      },
      "source": [
        "# visualização dos dados normalizados\n",
        "base.head()"
      ],
      "execution_count": 30,
      "outputs": [
        {
          "output_type": "execute_result",
          "data": {
            "text/html": [
              "<div>\n",
              "<style scoped>\n",
              "    .dataframe tbody tr th:only-of-type {\n",
              "        vertical-align: middle;\n",
              "    }\n",
              "\n",
              "    .dataframe tbody tr th {\n",
              "        vertical-align: top;\n",
              "    }\n",
              "\n",
              "    .dataframe thead th {\n",
              "        text-align: right;\n",
              "    }\n",
              "</style>\n",
              "<table border=\"1\" class=\"dataframe\">\n",
              "  <thead>\n",
              "    <tr style=\"text-align: right;\">\n",
              "      <th></th>\n",
              "      <th>danceability</th>\n",
              "      <th>energy</th>\n",
              "      <th>key</th>\n",
              "      <th>loudness</th>\n",
              "      <th>mode</th>\n",
              "      <th>speechiness</th>\n",
              "      <th>acousticness</th>\n",
              "      <th>instrumentalness</th>\n",
              "      <th>liveness</th>\n",
              "      <th>valence</th>\n",
              "      <th>tempo</th>\n",
              "      <th>duration_ms</th>\n",
              "      <th>time_signature</th>\n",
              "    </tr>\n",
              "  </thead>\n",
              "  <tbody>\n",
              "    <tr>\n",
              "      <th>0</th>\n",
              "      <td>0.847534</td>\n",
              "      <td>0.522184</td>\n",
              "      <td>0.090909</td>\n",
              "      <td>0.913192</td>\n",
              "      <td>0.0</td>\n",
              "      <td>0.139774</td>\n",
              "      <td>0.835910</td>\n",
              "      <td>0.000000</td>\n",
              "      <td>0.127515</td>\n",
              "      <td>0.960218</td>\n",
              "      <td>0.167892</td>\n",
              "      <td>0.384366</td>\n",
              "      <td>1.0</td>\n",
              "    </tr>\n",
              "    <tr>\n",
              "      <th>1</th>\n",
              "      <td>0.651719</td>\n",
              "      <td>0.800341</td>\n",
              "      <td>0.181818</td>\n",
              "      <td>0.786896</td>\n",
              "      <td>1.0</td>\n",
              "      <td>0.237371</td>\n",
              "      <td>0.329246</td>\n",
              "      <td>0.000000</td>\n",
              "      <td>0.125755</td>\n",
              "      <td>0.826097</td>\n",
              "      <td>0.111456</td>\n",
              "      <td>0.356880</td>\n",
              "      <td>1.0</td>\n",
              "    </tr>\n",
              "    <tr>\n",
              "      <th>2</th>\n",
              "      <td>0.600897</td>\n",
              "      <td>0.750853</td>\n",
              "      <td>0.181818</td>\n",
              "      <td>0.739576</td>\n",
              "      <td>1.0</td>\n",
              "      <td>0.359980</td>\n",
              "      <td>0.300459</td>\n",
              "      <td>0.000000</td>\n",
              "      <td>0.175050</td>\n",
              "      <td>0.863605</td>\n",
              "      <td>0.823537</td>\n",
              "      <td>0.353352</td>\n",
              "      <td>1.0</td>\n",
              "    </tr>\n",
              "    <tr>\n",
              "      <th>3</th>\n",
              "      <td>0.536622</td>\n",
              "      <td>0.493174</td>\n",
              "      <td>1.000000</td>\n",
              "      <td>0.517648</td>\n",
              "      <td>0.0</td>\n",
              "      <td>0.020844</td>\n",
              "      <td>0.071309</td>\n",
              "      <td>0.000069</td>\n",
              "      <td>0.305835</td>\n",
              "      <td>0.408957</td>\n",
              "      <td>0.224297</td>\n",
              "      <td>0.460011</td>\n",
              "      <td>1.0</td>\n",
              "    </tr>\n",
              "    <tr>\n",
              "      <th>4</th>\n",
              "      <td>0.524664</td>\n",
              "      <td>0.549488</td>\n",
              "      <td>0.636364</td>\n",
              "      <td>0.791749</td>\n",
              "      <td>1.0</td>\n",
              "      <td>0.033104</td>\n",
              "      <td>0.079081</td>\n",
              "      <td>0.000000</td>\n",
              "      <td>0.313380</td>\n",
              "      <td>0.823824</td>\n",
              "      <td>0.047322</td>\n",
              "      <td>0.693131</td>\n",
              "      <td>1.0</td>\n",
              "    </tr>\n",
              "  </tbody>\n",
              "</table>\n",
              "</div>"
            ],
            "text/plain": [
              "   danceability    energy       key  ...     tempo  duration_ms  time_signature\n",
              "0      0.847534  0.522184  0.090909  ...  0.167892     0.384366             1.0\n",
              "1      0.651719  0.800341  0.181818  ...  0.111456     0.356880             1.0\n",
              "2      0.600897  0.750853  0.181818  ...  0.823537     0.353352             1.0\n",
              "3      0.536622  0.493174  1.000000  ...  0.224297     0.460011             1.0\n",
              "4      0.524664  0.549488  0.636364  ...  0.047322     0.693131             1.0\n",
              "\n",
              "[5 rows x 13 columns]"
            ]
          },
          "metadata": {
            "tags": []
          },
          "execution_count": 30
        }
      ]
    },
    {
      "cell_type": "code",
      "metadata": {
        "colab_type": "code",
        "id": "VTqMq4RUN5Fb",
        "colab": {}
      },
      "source": [
        "# na variável X nos temos os atributos previsores, logo não queremos os valores do preço nela.\n",
        "X = base.drop('danceability', axis = 1) # apaga a coluna do preço.\n",
        "y = base.danceability"
      ],
      "execution_count": 0,
      "outputs": []
    },
    {
      "cell_type": "code",
      "metadata": {
        "colab_type": "code",
        "id": "txQf8IgNN5Fe",
        "outputId": "606bee12-0541-499e-864d-1ab6d03b0e8d",
        "colab": {
          "base_uri": "https://localhost:8080/",
          "height": 204
        }
      },
      "source": [
        "# visualizar os atributos.\n",
        "X.head()"
      ],
      "execution_count": 32,
      "outputs": [
        {
          "output_type": "execute_result",
          "data": {
            "text/html": [
              "<div>\n",
              "<style scoped>\n",
              "    .dataframe tbody tr th:only-of-type {\n",
              "        vertical-align: middle;\n",
              "    }\n",
              "\n",
              "    .dataframe tbody tr th {\n",
              "        vertical-align: top;\n",
              "    }\n",
              "\n",
              "    .dataframe thead th {\n",
              "        text-align: right;\n",
              "    }\n",
              "</style>\n",
              "<table border=\"1\" class=\"dataframe\">\n",
              "  <thead>\n",
              "    <tr style=\"text-align: right;\">\n",
              "      <th></th>\n",
              "      <th>energy</th>\n",
              "      <th>key</th>\n",
              "      <th>loudness</th>\n",
              "      <th>mode</th>\n",
              "      <th>speechiness</th>\n",
              "      <th>acousticness</th>\n",
              "      <th>instrumentalness</th>\n",
              "      <th>liveness</th>\n",
              "      <th>valence</th>\n",
              "      <th>tempo</th>\n",
              "      <th>duration_ms</th>\n",
              "      <th>time_signature</th>\n",
              "    </tr>\n",
              "  </thead>\n",
              "  <tbody>\n",
              "    <tr>\n",
              "      <th>0</th>\n",
              "      <td>0.522184</td>\n",
              "      <td>0.090909</td>\n",
              "      <td>0.913192</td>\n",
              "      <td>0.0</td>\n",
              "      <td>0.139774</td>\n",
              "      <td>0.835910</td>\n",
              "      <td>0.000000</td>\n",
              "      <td>0.127515</td>\n",
              "      <td>0.960218</td>\n",
              "      <td>0.167892</td>\n",
              "      <td>0.384366</td>\n",
              "      <td>1.0</td>\n",
              "    </tr>\n",
              "    <tr>\n",
              "      <th>1</th>\n",
              "      <td>0.800341</td>\n",
              "      <td>0.181818</td>\n",
              "      <td>0.786896</td>\n",
              "      <td>1.0</td>\n",
              "      <td>0.237371</td>\n",
              "      <td>0.329246</td>\n",
              "      <td>0.000000</td>\n",
              "      <td>0.125755</td>\n",
              "      <td>0.826097</td>\n",
              "      <td>0.111456</td>\n",
              "      <td>0.356880</td>\n",
              "      <td>1.0</td>\n",
              "    </tr>\n",
              "    <tr>\n",
              "      <th>2</th>\n",
              "      <td>0.750853</td>\n",
              "      <td>0.181818</td>\n",
              "      <td>0.739576</td>\n",
              "      <td>1.0</td>\n",
              "      <td>0.359980</td>\n",
              "      <td>0.300459</td>\n",
              "      <td>0.000000</td>\n",
              "      <td>0.175050</td>\n",
              "      <td>0.863605</td>\n",
              "      <td>0.823537</td>\n",
              "      <td>0.353352</td>\n",
              "      <td>1.0</td>\n",
              "    </tr>\n",
              "    <tr>\n",
              "      <th>3</th>\n",
              "      <td>0.493174</td>\n",
              "      <td>1.000000</td>\n",
              "      <td>0.517648</td>\n",
              "      <td>0.0</td>\n",
              "      <td>0.020844</td>\n",
              "      <td>0.071309</td>\n",
              "      <td>0.000069</td>\n",
              "      <td>0.305835</td>\n",
              "      <td>0.408957</td>\n",
              "      <td>0.224297</td>\n",
              "      <td>0.460011</td>\n",
              "      <td>1.0</td>\n",
              "    </tr>\n",
              "    <tr>\n",
              "      <th>4</th>\n",
              "      <td>0.549488</td>\n",
              "      <td>0.636364</td>\n",
              "      <td>0.791749</td>\n",
              "      <td>1.0</td>\n",
              "      <td>0.033104</td>\n",
              "      <td>0.079081</td>\n",
              "      <td>0.000000</td>\n",
              "      <td>0.313380</td>\n",
              "      <td>0.823824</td>\n",
              "      <td>0.047322</td>\n",
              "      <td>0.693131</td>\n",
              "      <td>1.0</td>\n",
              "    </tr>\n",
              "  </tbody>\n",
              "</table>\n",
              "</div>"
            ],
            "text/plain": [
              "     energy       key  loudness  ...     tempo  duration_ms  time_signature\n",
              "0  0.522184  0.090909  0.913192  ...  0.167892     0.384366             1.0\n",
              "1  0.800341  0.181818  0.786896  ...  0.111456     0.356880             1.0\n",
              "2  0.750853  0.181818  0.739576  ...  0.823537     0.353352             1.0\n",
              "3  0.493174  1.000000  0.517648  ...  0.224297     0.460011             1.0\n",
              "4  0.549488  0.636364  0.791749  ...  0.047322     0.693131             1.0\n",
              "\n",
              "[5 rows x 12 columns]"
            ]
          },
          "metadata": {
            "tags": []
          },
          "execution_count": 32
        }
      ]
    },
    {
      "cell_type": "code",
      "metadata": {
        "colab_type": "code",
        "id": "4M9E9XolN5Fi",
        "outputId": "a8ff0af8-36ef-4608-a9cb-4f648646e998",
        "colab": {
          "base_uri": "https://localhost:8080/",
          "height": 119
        }
      },
      "source": [
        "# visualizar os atributos.\n",
        "y.head()"
      ],
      "execution_count": 33,
      "outputs": [
        {
          "output_type": "execute_result",
          "data": {
            "text/plain": [
              "0    0.847534\n",
              "1    0.651719\n",
              "2    0.600897\n",
              "3    0.536622\n",
              "4    0.524664\n",
              "Name: danceability, dtype: float64"
            ]
          },
          "metadata": {
            "tags": []
          },
          "execution_count": 33
        }
      ]
    },
    {
      "cell_type": "code",
      "metadata": {
        "colab_type": "code",
        "id": "k-PWZFzvN5Fk",
        "outputId": "081ce459-5ddc-4a0c-f013-f366c96a752a",
        "colab": {
          "base_uri": "https://localhost:8080/",
          "height": 221
        }
      },
      "source": [
        "# ajuste dos dados para criação das classes.\n",
        "previsores_colunas = colunas_usadas[1:17] # posição 0 é o preço\n",
        "previsores_colunas"
      ],
      "execution_count": 34,
      "outputs": [
        {
          "output_type": "execute_result",
          "data": {
            "text/plain": [
              "['energy',\n",
              " 'key',\n",
              " 'loudness',\n",
              " 'mode',\n",
              " 'speechiness',\n",
              " 'acousticness',\n",
              " 'instrumentalness',\n",
              " 'liveness',\n",
              " 'valence',\n",
              " 'tempo',\n",
              " 'duration_ms',\n",
              " 'time_signature']"
            ]
          },
          "metadata": {
            "tags": []
          },
          "execution_count": 34
        }
      ]
    },
    {
      "cell_type": "markdown",
      "metadata": {
        "colab_type": "text",
        "id": "qEZKAMBxN5Fn"
      },
      "source": [
        "# FIM TRATAMENTO DE DADOS."
      ]
    },
    {
      "cell_type": "code",
      "metadata": {
        "colab_type": "code",
        "id": "YbH9SlPW1Rue",
        "outputId": "a94ef323-09fa-4077-f8d8-0d1d8d04d95f",
        "colab": {
          "base_uri": "https://localhost:8080/",
          "height": 34
        }
      },
      "source": [
        "%tensorflow_version 1.x"
      ],
      "execution_count": 35,
      "outputs": [
        {
          "output_type": "stream",
          "text": [
            "TensorFlow 1.x selected.\n"
          ],
          "name": "stdout"
        }
      ]
    },
    {
      "cell_type": "code",
      "metadata": {
        "colab_type": "code",
        "id": "Z-DcU1RFN5Fo",
        "colab": {}
      },
      "source": [
        "import tensorflow as tf"
      ],
      "execution_count": 0,
      "outputs": []
    },
    {
      "cell_type": "code",
      "metadata": {
        "colab_type": "code",
        "id": "QrWqf7KM1Sve",
        "outputId": "f2679d7c-bca6-47ed-bc66-a6fb99512ecb",
        "colab": {
          "base_uri": "https://localhost:8080/",
          "height": 34
        }
      },
      "source": [
        "tf.__version__"
      ],
      "execution_count": 37,
      "outputs": [
        {
          "output_type": "execute_result",
          "data": {
            "text/plain": [
              "'1.15.2'"
            ]
          },
          "metadata": {
            "tags": []
          },
          "execution_count": 37
        }
      ]
    },
    {
      "cell_type": "code",
      "metadata": {
        "colab_type": "code",
        "id": "YNFWKgn2N5Ft",
        "colab": {}
      },
      "source": [
        "# vamos criar um for para passar nossas colunas para um array que será usado com o X.\n",
        "# como os valores de X são numéricos, vamos usar um feature_column.numeric.\n",
        "colunas = [tf.feature_column.numeric_column(key = c) for c in previsores_colunas]"
      ],
      "execution_count": 0,
      "outputs": []
    },
    {
      "cell_type": "code",
      "metadata": {
        "colab_type": "code",
        "id": "YBdNvWBVN5Fw",
        "outputId": "5c34a21b-0523-4e7e-cdf7-c599fb6f9df9",
        "colab": {
          "base_uri": "https://localhost:8080/",
          "height": 34
        }
      },
      "source": [
        "# visualizar os valores das colunas.\n",
        "print(colunas[2])"
      ],
      "execution_count": 40,
      "outputs": [
        {
          "output_type": "stream",
          "text": [
            "NumericColumn(key='loudness', shape=(1,), default_value=None, dtype=tf.float32, normalizer_fn=None)\n"
          ],
          "name": "stdout"
        }
      ]
    },
    {
      "cell_type": "markdown",
      "metadata": {
        "colab_type": "text",
        "id": "XUUvnSXH18lx"
      },
      "source": [
        "# Separar a base de dados\n",
        "\n",
        "Vamos separa a base entre treinamento e testes"
      ]
    },
    {
      "cell_type": "code",
      "metadata": {
        "colab_type": "code",
        "id": "M2vnxwVsN5Fy",
        "colab": {}
      },
      "source": [
        "# agora precisamos criar uma base para testes e outra para o treinamento, normalmente usado 30, 70.\n",
        "from sklearn.model_selection import train_test_split\n",
        "X_treinamento, X_teste, y_treinamento, y_teste = train_test_split(X, y, test_size = 0.3)"
      ],
      "execution_count": 0,
      "outputs": []
    },
    {
      "cell_type": "code",
      "metadata": {
        "colab_type": "code",
        "id": "F9_m5huTN5F2",
        "outputId": "469fa6e9-5035-4e23-8546-bbaeef2d9bbd",
        "colab": {
          "base_uri": "https://localhost:8080/",
          "height": 34
        }
      },
      "source": [
        "# visualizar o array X de treino.\n",
        "X_treinamento.shape"
      ],
      "execution_count": 42,
      "outputs": [
        {
          "output_type": "execute_result",
          "data": {
            "text/plain": [
              "(70, 12)"
            ]
          },
          "metadata": {
            "tags": []
          },
          "execution_count": 42
        }
      ]
    },
    {
      "cell_type": "code",
      "metadata": {
        "colab_type": "code",
        "id": "K-6OA2UXN5F7",
        "outputId": "d77fb8f9-6440-4d0f-9486-b18052b2a9fd",
        "colab": {
          "base_uri": "https://localhost:8080/",
          "height": 34
        }
      },
      "source": [
        "# visualizar o array Y de treino.\n",
        "y_treinamento.shape"
      ],
      "execution_count": 43,
      "outputs": [
        {
          "output_type": "execute_result",
          "data": {
            "text/plain": [
              "(70,)"
            ]
          },
          "metadata": {
            "tags": []
          },
          "execution_count": 43
        }
      ]
    },
    {
      "cell_type": "code",
      "metadata": {
        "colab_type": "code",
        "id": "ZK2axjHuN5F9",
        "outputId": "f97ea491-a914-4d2c-fe36-999130bcac5b",
        "colab": {
          "base_uri": "https://localhost:8080/",
          "height": 34
        }
      },
      "source": [
        "# visualizar o array X de teste.\n",
        "X_teste.shape"
      ],
      "execution_count": 44,
      "outputs": [
        {
          "output_type": "execute_result",
          "data": {
            "text/plain": [
              "(30, 12)"
            ]
          },
          "metadata": {
            "tags": []
          },
          "execution_count": 44
        }
      ]
    },
    {
      "cell_type": "markdown",
      "metadata": {
        "colab_type": "text",
        "id": "RKg2BZdo2Vc7"
      },
      "source": [
        "# FUNÇÃO DE TREINAMENTO"
      ]
    },
    {
      "cell_type": "code",
      "metadata": {
        "colab_type": "code",
        "id": "AVAddC9FN5F_",
        "colab": {}
      },
      "source": [
        "# define a função de treinamento.\n",
        "# passamos as entradas dos valores X e Y que foram separados para testes.\n",
        "# batch_size é definido com 32 para que o alg não carregue de uma só vez todos os dados.\n",
        "# \n",
        "funcao_treinamento = tf.estimator.inputs.pandas_input_fn(x = X_treinamento, \n",
        "                                                         y = y_treinamento,\n",
        "                                                         batch_size = 32, \n",
        "                                                         num_epochs = None, \n",
        "                                                         shuffle = True)"
      ],
      "execution_count": 0,
      "outputs": []
    },
    {
      "cell_type": "markdown",
      "metadata": {
        "colab_type": "text",
        "id": "Xa29iBGD2Yub"
      },
      "source": [
        "# FUNÇÃO DE TESTE"
      ]
    },
    {
      "cell_type": "code",
      "metadata": {
        "colab_type": "code",
        "id": "5qSBEb7gN5GB",
        "colab": {}
      },
      "source": [
        "# define a função de teste.\n",
        "funcao_teste = tf.estimator.inputs.pandas_input_fn(x = X_teste, \n",
        "                                                   y = y_teste,\n",
        "                                                   batch_size = 32, \n",
        "                                                   num_epochs = 10000, \n",
        "                                                   shuffle = False)"
      ],
      "execution_count": 0,
      "outputs": []
    },
    {
      "cell_type": "markdown",
      "metadata": {
        "colab_type": "text",
        "id": "zUlRWWxn2d45"
      },
      "source": [
        "# ALGORITMO - REGRESSÃO LINEAR"
      ]
    },
    {
      "cell_type": "code",
      "metadata": {
        "colab_type": "code",
        "id": "-1rinf3oN5GE",
        "outputId": "ff8ce5af-f51a-46d7-dc48-86792fd22944",
        "colab": {
          "base_uri": "https://localhost:8080/",
          "height": 190
        }
      },
      "source": [
        "# função do regressor.\n",
        "regressor = tf.estimator.LinearRegressor(feature_columns=colunas)"
      ],
      "execution_count": 47,
      "outputs": [
        {
          "output_type": "stream",
          "text": [
            "INFO:tensorflow:Using default config.\n",
            "WARNING:tensorflow:Using temporary folder as model directory: /tmp/tmpq84db5pf\n",
            "INFO:tensorflow:Using config: {'_model_dir': '/tmp/tmpq84db5pf', '_tf_random_seed': None, '_save_summary_steps': 100, '_save_checkpoints_steps': None, '_save_checkpoints_secs': 600, '_session_config': allow_soft_placement: true\n",
            "graph_options {\n",
            "  rewrite_options {\n",
            "    meta_optimizer_iterations: ONE\n",
            "  }\n",
            "}\n",
            ", '_keep_checkpoint_max': 5, '_keep_checkpoint_every_n_hours': 10000, '_log_step_count_steps': 100, '_train_distribute': None, '_device_fn': None, '_protocol': None, '_eval_distribute': None, '_experimental_distribute': None, '_experimental_max_worker_delay_secs': None, '_session_creation_timeout_secs': 7200, '_service': None, '_cluster_spec': <tensorflow.python.training.server_lib.ClusterSpec object at 0x7fec095d0e10>, '_task_type': 'worker', '_task_id': 0, '_global_id_in_cluster': 0, '_master': '', '_evaluation_master': '', '_is_chief': True, '_num_ps_replicas': 0, '_num_worker_replicas': 1}\n"
          ],
          "name": "stdout"
        }
      ]
    },
    {
      "cell_type": "markdown",
      "metadata": {
        "colab_type": "text",
        "id": "vTog7VhF2qqs"
      },
      "source": [
        "TREINAMENTO..."
      ]
    },
    {
      "cell_type": "code",
      "metadata": {
        "colab_type": "code",
        "id": "ZEeWXRNaN5GG",
        "outputId": "3af574f6-e59a-41be-bf7c-bc0c9d83fd92",
        "colab": {
          "base_uri": "https://localhost:8080/",
          "height": 1000
        }
      },
      "source": [
        "# com o regressor podemos fazer o treinamento.\n",
        "regressor.train(input_fn=funcao_treinamento, steps = 10000)"
      ],
      "execution_count": 48,
      "outputs": [
        {
          "output_type": "stream",
          "text": [
            "WARNING:tensorflow:From /tensorflow-1.15.2/python3.6/tensorflow_core/python/training/training_util.py:236: Variable.initialized_value (from tensorflow.python.ops.variables) is deprecated and will be removed in a future version.\n",
            "Instructions for updating:\n",
            "Use Variable.read_value. Variables in 2.X are initialized automatically both in eager and graph (inside tf.defun) contexts.\n",
            "WARNING:tensorflow:From /tensorflow-1.15.2/python3.6/tensorflow_estimator/python/estimator/inputs/queues/feeding_queue_runner.py:62: QueueRunner.__init__ (from tensorflow.python.training.queue_runner_impl) is deprecated and will be removed in a future version.\n",
            "Instructions for updating:\n",
            "To construct input pipelines, use the `tf.data` module.\n",
            "WARNING:tensorflow:From /tensorflow-1.15.2/python3.6/tensorflow_estimator/python/estimator/inputs/queues/feeding_functions.py:500: add_queue_runner (from tensorflow.python.training.queue_runner_impl) is deprecated and will be removed in a future version.\n",
            "Instructions for updating:\n",
            "To construct input pipelines, use the `tf.data` module.\n",
            "INFO:tensorflow:Calling model_fn.\n",
            "WARNING:tensorflow:From /tensorflow-1.15.2/python3.6/tensorflow_core/python/feature_column/feature_column_v2.py:305: Layer.add_variable (from tensorflow.python.keras.engine.base_layer) is deprecated and will be removed in a future version.\n",
            "Instructions for updating:\n",
            "Please use `layer.add_weight` method instead.\n",
            "WARNING:tensorflow:From /tensorflow-1.15.2/python3.6/tensorflow_core/python/ops/resource_variable_ops.py:1630: calling BaseResourceVariable.__init__ (from tensorflow.python.ops.resource_variable_ops) with constraint is deprecated and will be removed in a future version.\n",
            "Instructions for updating:\n",
            "If using Keras pass *_constraint arguments to layers.\n",
            "WARNING:tensorflow:From /tensorflow-1.15.2/python3.6/tensorflow_estimator/python/estimator/canned/linear.py:308: to_float (from tensorflow.python.ops.math_ops) is deprecated and will be removed in a future version.\n",
            "Instructions for updating:\n",
            "Use `tf.cast` instead.\n",
            "INFO:tensorflow:Done calling model_fn.\n",
            "INFO:tensorflow:Create CheckpointSaverHook.\n",
            "WARNING:tensorflow:From /tensorflow-1.15.2/python3.6/tensorflow_core/python/ops/array_ops.py:1475: where (from tensorflow.python.ops.array_ops) is deprecated and will be removed in a future version.\n",
            "Instructions for updating:\n",
            "Use tf.where in 2.0, which has the same broadcast rule as np.where\n",
            "INFO:tensorflow:Graph was finalized.\n",
            "INFO:tensorflow:Running local_init_op.\n",
            "INFO:tensorflow:Done running local_init_op.\n",
            "WARNING:tensorflow:From /tensorflow-1.15.2/python3.6/tensorflow_core/python/training/monitored_session.py:882: start_queue_runners (from tensorflow.python.training.queue_runner_impl) is deprecated and will be removed in a future version.\n",
            "Instructions for updating:\n",
            "To construct input pipelines, use the `tf.data` module.\n",
            "INFO:tensorflow:Saving checkpoints for 0 into /tmp/tmpq84db5pf/model.ckpt.\n",
            "INFO:tensorflow:loss = 15.06291, step = 1\n",
            "WARNING:tensorflow:It seems that global step (tf.train.get_global_step) has not been increased. Current value (could be stable): 94 vs previous value: 94. You could increase the global step by passing tf.train.get_global_step() to Optimizer.apply_gradients or Optimizer.minimize.\n",
            "INFO:tensorflow:global_step/sec: 305.378\n",
            "INFO:tensorflow:loss = 0.6026597, step = 101 (0.331 sec)\n",
            "INFO:tensorflow:global_step/sec: 383.591\n",
            "INFO:tensorflow:loss = 0.48607284, step = 201 (0.263 sec)\n",
            "INFO:tensorflow:global_step/sec: 340.987\n",
            "INFO:tensorflow:loss = 0.7062148, step = 301 (0.292 sec)\n",
            "INFO:tensorflow:global_step/sec: 351.556\n",
            "INFO:tensorflow:loss = 0.7458534, step = 401 (0.286 sec)\n",
            "INFO:tensorflow:global_step/sec: 367.156\n",
            "INFO:tensorflow:loss = 0.4673788, step = 501 (0.277 sec)\n",
            "WARNING:tensorflow:It seems that global step (tf.train.get_global_step) has not been increased. Current value (could be stable): 597 vs previous value: 597. You could increase the global step by passing tf.train.get_global_step() to Optimizer.apply_gradients or Optimizer.minimize.\n",
            "INFO:tensorflow:global_step/sec: 348.113\n",
            "INFO:tensorflow:loss = 0.5876535, step = 601 (0.282 sec)\n",
            "INFO:tensorflow:global_step/sec: 335.978\n",
            "INFO:tensorflow:loss = 0.5779847, step = 701 (0.304 sec)\n",
            "INFO:tensorflow:global_step/sec: 349.867\n",
            "INFO:tensorflow:loss = 0.35653055, step = 801 (0.282 sec)\n",
            "INFO:tensorflow:global_step/sec: 342.908\n",
            "INFO:tensorflow:loss = 0.6800269, step = 901 (0.286 sec)\n",
            "INFO:tensorflow:global_step/sec: 361.892\n",
            "INFO:tensorflow:loss = 0.4379784, step = 1001 (0.278 sec)\n",
            "INFO:tensorflow:global_step/sec: 388.338\n",
            "INFO:tensorflow:loss = 0.4846738, step = 1101 (0.260 sec)\n",
            "INFO:tensorflow:global_step/sec: 362.028\n",
            "INFO:tensorflow:loss = 0.8479563, step = 1201 (0.275 sec)\n",
            "INFO:tensorflow:global_step/sec: 356.745\n",
            "INFO:tensorflow:loss = 0.6384973, step = 1301 (0.279 sec)\n",
            "INFO:tensorflow:global_step/sec: 365.047\n",
            "INFO:tensorflow:loss = 0.73553175, step = 1401 (0.286 sec)\n",
            "INFO:tensorflow:global_step/sec: 360.929\n",
            "INFO:tensorflow:loss = 0.6088743, step = 1501 (0.272 sec)\n",
            "INFO:tensorflow:global_step/sec: 372.318\n",
            "INFO:tensorflow:loss = 0.43618086, step = 1601 (0.265 sec)\n",
            "INFO:tensorflow:global_step/sec: 377.558\n",
            "INFO:tensorflow:loss = 0.33748716, step = 1701 (0.269 sec)\n",
            "INFO:tensorflow:global_step/sec: 365.469\n",
            "INFO:tensorflow:loss = 0.515324, step = 1801 (0.268 sec)\n",
            "INFO:tensorflow:global_step/sec: 379.761\n",
            "INFO:tensorflow:loss = 0.5078869, step = 1901 (0.262 sec)\n",
            "INFO:tensorflow:global_step/sec: 365.97\n",
            "INFO:tensorflow:loss = 0.7551081, step = 2001 (0.275 sec)\n",
            "WARNING:tensorflow:It seems that global step (tf.train.get_global_step) has not been increased. Current value (could be stable): 2020 vs previous value: 2020. You could increase the global step by passing tf.train.get_global_step() to Optimizer.apply_gradients or Optimizer.minimize.\n",
            "INFO:tensorflow:global_step/sec: 362.424\n",
            "INFO:tensorflow:loss = 0.6637558, step = 2101 (0.280 sec)\n",
            "INFO:tensorflow:global_step/sec: 350.996\n",
            "INFO:tensorflow:loss = 0.4985267, step = 2201 (0.285 sec)\n",
            "WARNING:tensorflow:It seems that global step (tf.train.get_global_step) has not been increased. Current value (could be stable): 2284 vs previous value: 2284. You could increase the global step by passing tf.train.get_global_step() to Optimizer.apply_gradients or Optimizer.minimize.\n",
            "INFO:tensorflow:global_step/sec: 361.901\n",
            "INFO:tensorflow:loss = 0.612228, step = 2301 (0.276 sec)\n",
            "WARNING:tensorflow:It seems that global step (tf.train.get_global_step) has not been increased. Current value (could be stable): 2392 vs previous value: 2392. You could increase the global step by passing tf.train.get_global_step() to Optimizer.apply_gradients or Optimizer.minimize.\n",
            "INFO:tensorflow:global_step/sec: 367.299\n",
            "INFO:tensorflow:loss = 0.318715, step = 2401 (0.274 sec)\n",
            "INFO:tensorflow:global_step/sec: 364.619\n",
            "INFO:tensorflow:loss = 0.41287994, step = 2501 (0.272 sec)\n",
            "INFO:tensorflow:global_step/sec: 379.345\n",
            "INFO:tensorflow:loss = 0.4601137, step = 2601 (0.266 sec)\n",
            "INFO:tensorflow:global_step/sec: 373.386\n",
            "INFO:tensorflow:loss = 0.33889997, step = 2701 (0.263 sec)\n",
            "INFO:tensorflow:global_step/sec: 370.809\n",
            "INFO:tensorflow:loss = 0.501478, step = 2801 (0.275 sec)\n",
            "INFO:tensorflow:global_step/sec: 379.512\n",
            "INFO:tensorflow:loss = 0.52347434, step = 2901 (0.261 sec)\n",
            "INFO:tensorflow:global_step/sec: 361.384\n",
            "INFO:tensorflow:loss = 0.8358942, step = 3001 (0.281 sec)\n",
            "INFO:tensorflow:global_step/sec: 365.201\n",
            "INFO:tensorflow:loss = 0.4524899, step = 3101 (0.273 sec)\n",
            "INFO:tensorflow:global_step/sec: 339.755\n",
            "INFO:tensorflow:loss = 0.4218226, step = 3201 (0.296 sec)\n",
            "INFO:tensorflow:global_step/sec: 327.184\n",
            "INFO:tensorflow:loss = 0.5360174, step = 3301 (0.295 sec)\n",
            "INFO:tensorflow:global_step/sec: 367.384\n",
            "INFO:tensorflow:loss = 0.6250687, step = 3401 (0.284 sec)\n",
            "INFO:tensorflow:global_step/sec: 361.507\n",
            "INFO:tensorflow:loss = 0.59657526, step = 3501 (0.268 sec)\n",
            "INFO:tensorflow:global_step/sec: 379.205\n",
            "INFO:tensorflow:loss = 0.6881917, step = 3601 (0.267 sec)\n",
            "INFO:tensorflow:global_step/sec: 359.347\n",
            "INFO:tensorflow:loss = 0.46599433, step = 3701 (0.279 sec)\n",
            "INFO:tensorflow:global_step/sec: 369.808\n",
            "INFO:tensorflow:loss = 0.5261489, step = 3801 (0.280 sec)\n",
            "INFO:tensorflow:global_step/sec: 369.363\n",
            "INFO:tensorflow:loss = 0.42467988, step = 3901 (0.262 sec)\n",
            "INFO:tensorflow:global_step/sec: 363.709\n",
            "INFO:tensorflow:loss = 0.60812515, step = 4001 (0.277 sec)\n",
            "INFO:tensorflow:global_step/sec: 373.847\n",
            "INFO:tensorflow:loss = 0.48772526, step = 4101 (0.261 sec)\n",
            "INFO:tensorflow:global_step/sec: 349.967\n",
            "INFO:tensorflow:loss = 0.49208063, step = 4201 (0.289 sec)\n",
            "INFO:tensorflow:global_step/sec: 361.005\n",
            "INFO:tensorflow:loss = 0.49653152, step = 4301 (0.272 sec)\n",
            "INFO:tensorflow:global_step/sec: 378.448\n",
            "INFO:tensorflow:loss = 0.33538777, step = 4401 (0.274 sec)\n",
            "INFO:tensorflow:global_step/sec: 377.453\n",
            "INFO:tensorflow:loss = 0.44626743, step = 4501 (0.262 sec)\n",
            "INFO:tensorflow:global_step/sec: 342.044\n",
            "INFO:tensorflow:loss = 0.7130273, step = 4601 (0.289 sec)\n",
            "INFO:tensorflow:global_step/sec: 339.296\n",
            "INFO:tensorflow:loss = 0.9449788, step = 4701 (0.297 sec)\n",
            "INFO:tensorflow:global_step/sec: 338.195\n",
            "INFO:tensorflow:loss = 0.85044324, step = 4801 (0.303 sec)\n",
            "INFO:tensorflow:global_step/sec: 341.468\n",
            "INFO:tensorflow:loss = 0.6653259, step = 4901 (0.281 sec)\n",
            "INFO:tensorflow:global_step/sec: 367.017\n",
            "INFO:tensorflow:loss = 0.8402523, step = 5001 (0.278 sec)\n",
            "INFO:tensorflow:global_step/sec: 370.626\n",
            "INFO:tensorflow:loss = 0.68081677, step = 5101 (0.264 sec)\n",
            "INFO:tensorflow:global_step/sec: 377.321\n",
            "INFO:tensorflow:loss = 0.87028193, step = 5201 (0.267 sec)\n",
            "INFO:tensorflow:global_step/sec: 371.677\n",
            "INFO:tensorflow:loss = 0.34389257, step = 5301 (0.269 sec)\n",
            "INFO:tensorflow:global_step/sec: 387.547\n",
            "INFO:tensorflow:loss = 0.72975075, step = 5401 (0.261 sec)\n",
            "INFO:tensorflow:global_step/sec: 357.392\n",
            "INFO:tensorflow:loss = 0.55152595, step = 5501 (0.277 sec)\n",
            "INFO:tensorflow:global_step/sec: 381.731\n",
            "INFO:tensorflow:loss = 0.845948, step = 5601 (0.259 sec)\n",
            "INFO:tensorflow:global_step/sec: 357.153\n",
            "INFO:tensorflow:loss = 0.50020397, step = 5701 (0.282 sec)\n",
            "INFO:tensorflow:global_step/sec: 377.763\n",
            "INFO:tensorflow:loss = 0.5048729, step = 5801 (0.270 sec)\n",
            "INFO:tensorflow:global_step/sec: 359.676\n",
            "INFO:tensorflow:loss = 0.5006413, step = 5901 (0.273 sec)\n",
            "INFO:tensorflow:global_step/sec: 369.435\n",
            "INFO:tensorflow:loss = 0.61612606, step = 6001 (0.280 sec)\n",
            "INFO:tensorflow:global_step/sec: 311.514\n",
            "INFO:tensorflow:loss = 0.6315159, step = 6101 (0.312 sec)\n",
            "INFO:tensorflow:global_step/sec: 346.822\n",
            "INFO:tensorflow:loss = 0.529412, step = 6201 (0.287 sec)\n",
            "INFO:tensorflow:global_step/sec: 332.43\n",
            "INFO:tensorflow:loss = 0.40272892, step = 6301 (0.300 sec)\n",
            "INFO:tensorflow:global_step/sec: 341.936\n",
            "INFO:tensorflow:loss = 0.6275656, step = 6401 (0.291 sec)\n",
            "INFO:tensorflow:global_step/sec: 376.308\n",
            "INFO:tensorflow:loss = 0.5658413, step = 6501 (0.269 sec)\n",
            "INFO:tensorflow:global_step/sec: 325.078\n",
            "INFO:tensorflow:loss = 0.46921533, step = 6601 (0.304 sec)\n",
            "INFO:tensorflow:global_step/sec: 340.416\n",
            "INFO:tensorflow:loss = 0.62076014, step = 6701 (0.294 sec)\n",
            "INFO:tensorflow:global_step/sec: 344.307\n",
            "INFO:tensorflow:loss = 0.69967264, step = 6801 (0.297 sec)\n",
            "INFO:tensorflow:global_step/sec: 335.504\n",
            "INFO:tensorflow:loss = 0.54543626, step = 6901 (0.297 sec)\n",
            "INFO:tensorflow:global_step/sec: 340.843\n",
            "INFO:tensorflow:loss = 0.32576382, step = 7001 (0.295 sec)\n",
            "INFO:tensorflow:global_step/sec: 331.43\n",
            "INFO:tensorflow:loss = 0.4732263, step = 7101 (0.296 sec)\n",
            "INFO:tensorflow:global_step/sec: 343.524\n",
            "INFO:tensorflow:loss = 0.46608585, step = 7201 (0.289 sec)\n",
            "INFO:tensorflow:global_step/sec: 342.552\n",
            "INFO:tensorflow:loss = 0.54833156, step = 7301 (0.292 sec)\n",
            "INFO:tensorflow:global_step/sec: 355.55\n",
            "INFO:tensorflow:loss = 0.6329608, step = 7401 (0.283 sec)\n",
            "INFO:tensorflow:global_step/sec: 334.963\n",
            "INFO:tensorflow:loss = 0.56207675, step = 7501 (0.297 sec)\n",
            "INFO:tensorflow:global_step/sec: 342.642\n",
            "INFO:tensorflow:loss = 0.47871095, step = 7601 (0.292 sec)\n",
            "INFO:tensorflow:global_step/sec: 338.925\n",
            "INFO:tensorflow:loss = 0.36805856, step = 7701 (0.295 sec)\n",
            "INFO:tensorflow:global_step/sec: 344.376\n",
            "INFO:tensorflow:loss = 0.5934015, step = 7801 (0.290 sec)\n",
            "INFO:tensorflow:global_step/sec: 357.578\n",
            "INFO:tensorflow:loss = 0.6276143, step = 7901 (0.280 sec)\n",
            "INFO:tensorflow:global_step/sec: 345.8\n",
            "INFO:tensorflow:loss = 0.7121178, step = 8001 (0.290 sec)\n",
            "INFO:tensorflow:global_step/sec: 352.386\n",
            "INFO:tensorflow:loss = 0.362469, step = 8101 (0.285 sec)\n",
            "INFO:tensorflow:global_step/sec: 338.597\n",
            "INFO:tensorflow:loss = 0.3145942, step = 8201 (0.293 sec)\n",
            "INFO:tensorflow:global_step/sec: 327.38\n",
            "INFO:tensorflow:loss = 0.77566564, step = 8301 (0.306 sec)\n",
            "INFO:tensorflow:global_step/sec: 334.692\n",
            "INFO:tensorflow:loss = 0.9236616, step = 8401 (0.303 sec)\n",
            "INFO:tensorflow:global_step/sec: 326.523\n",
            "INFO:tensorflow:loss = 0.49559027, step = 8501 (0.302 sec)\n",
            "INFO:tensorflow:global_step/sec: 335.412\n",
            "INFO:tensorflow:loss = 0.5064303, step = 8601 (0.298 sec)\n",
            "INFO:tensorflow:global_step/sec: 346.941\n",
            "INFO:tensorflow:loss = 0.35107237, step = 8701 (0.288 sec)\n",
            "INFO:tensorflow:global_step/sec: 321.99\n",
            "INFO:tensorflow:loss = 0.43864048, step = 8801 (0.311 sec)\n",
            "INFO:tensorflow:global_step/sec: 333.599\n",
            "INFO:tensorflow:loss = 0.8303338, step = 8901 (0.300 sec)\n",
            "INFO:tensorflow:global_step/sec: 343.113\n",
            "INFO:tensorflow:loss = 0.5185282, step = 9001 (0.292 sec)\n",
            "INFO:tensorflow:global_step/sec: 344.057\n",
            "INFO:tensorflow:loss = 0.50036514, step = 9101 (0.295 sec)\n",
            "INFO:tensorflow:global_step/sec: 325.512\n",
            "INFO:tensorflow:loss = 0.47905892, step = 9201 (0.310 sec)\n",
            "INFO:tensorflow:global_step/sec: 314.356\n",
            "INFO:tensorflow:loss = 0.60022485, step = 9301 (0.314 sec)\n",
            "INFO:tensorflow:global_step/sec: 335.895\n",
            "INFO:tensorflow:loss = 0.5579879, step = 9401 (0.296 sec)\n",
            "INFO:tensorflow:global_step/sec: 375.765\n",
            "INFO:tensorflow:loss = 0.37197343, step = 9501 (0.271 sec)\n",
            "INFO:tensorflow:global_step/sec: 393.794\n",
            "INFO:tensorflow:loss = 0.44304675, step = 9601 (0.252 sec)\n",
            "INFO:tensorflow:global_step/sec: 374.735\n",
            "INFO:tensorflow:loss = 0.6591828, step = 9701 (0.264 sec)\n",
            "INFO:tensorflow:global_step/sec: 381.986\n",
            "INFO:tensorflow:loss = 0.46350557, step = 9801 (0.263 sec)\n",
            "INFO:tensorflow:global_step/sec: 364.856\n",
            "INFO:tensorflow:loss = 0.7505268, step = 9901 (0.282 sec)\n",
            "INFO:tensorflow:Saving checkpoints for 10000 into /tmp/tmpq84db5pf/model.ckpt.\n",
            "INFO:tensorflow:Loss for final step: 0.8297609.\n"
          ],
          "name": "stdout"
        },
        {
          "output_type": "execute_result",
          "data": {
            "text/plain": [
              "<tensorflow_estimator.python.estimator.canned.linear.LinearRegressor at 0x7fec095d0a20>"
            ]
          },
          "metadata": {
            "tags": []
          },
          "execution_count": 48
        }
      ]
    },
    {
      "cell_type": "code",
      "metadata": {
        "colab_type": "code",
        "id": "DuZ6S_7hN5GJ",
        "outputId": "8c1dc2b7-bcb7-4716-b011-9323b680c6df",
        "colab": {
          "base_uri": "https://localhost:8080/",
          "height": 377
        }
      },
      "source": [
        "# calculo das metricas de treinamento.\n",
        "metricas_treinamento = regressor.evaluate(input_fn=funcao_treinamento, steps = 10000)"
      ],
      "execution_count": 49,
      "outputs": [
        {
          "output_type": "stream",
          "text": [
            "INFO:tensorflow:Calling model_fn.\n",
            "INFO:tensorflow:Done calling model_fn.\n",
            "INFO:tensorflow:Starting evaluation at 2020-04-28T18:33:12Z\n",
            "INFO:tensorflow:Graph was finalized.\n",
            "INFO:tensorflow:Restoring parameters from /tmp/tmpq84db5pf/model.ckpt-10000\n",
            "INFO:tensorflow:Running local_init_op.\n",
            "INFO:tensorflow:Done running local_init_op.\n",
            "INFO:tensorflow:Evaluation [1000/10000]\n",
            "INFO:tensorflow:Evaluation [2000/10000]\n",
            "INFO:tensorflow:Evaluation [3000/10000]\n",
            "INFO:tensorflow:Evaluation [4000/10000]\n",
            "INFO:tensorflow:Evaluation [5000/10000]\n",
            "INFO:tensorflow:Evaluation [6000/10000]\n",
            "INFO:tensorflow:Evaluation [7000/10000]\n",
            "INFO:tensorflow:Evaluation [8000/10000]\n",
            "INFO:tensorflow:Evaluation [9000/10000]\n",
            "INFO:tensorflow:Evaluation [10000/10000]\n",
            "INFO:tensorflow:Finished evaluation at 2020-04-28-18:33:36\n",
            "INFO:tensorflow:Saving dict for global step 10000: average_loss = 0.017598214, global_step = 10000, label/mean = 0.66980094, loss = 0.56314284, prediction/mean = 0.6600661\n",
            "INFO:tensorflow:Saving 'checkpoint_path' summary for global step 10000: /tmp/tmpq84db5pf/model.ckpt-10000\n"
          ],
          "name": "stdout"
        }
      ]
    },
    {
      "cell_type": "markdown",
      "metadata": {
        "colab_type": "text",
        "id": "BAkfvRuG2tfA"
      },
      "source": [
        "TESTES..."
      ]
    },
    {
      "cell_type": "code",
      "metadata": {
        "colab_type": "code",
        "id": "3BC5KFupN5GM",
        "outputId": "d4a44d8e-469a-40c4-c0fa-df54df27dfaf",
        "colab": {
          "base_uri": "https://localhost:8080/",
          "height": 360
        }
      },
      "source": [
        "# calculo das metricas de testes. (função de avaliação)\n",
        "metricas_teste = regressor.evaluate(input_fn=funcao_teste, steps = 10000)"
      ],
      "execution_count": 50,
      "outputs": [
        {
          "output_type": "stream",
          "text": [
            "INFO:tensorflow:Calling model_fn.\n",
            "INFO:tensorflow:Done calling model_fn.\n",
            "INFO:tensorflow:Starting evaluation at 2020-04-28T18:33:40Z\n",
            "INFO:tensorflow:Graph was finalized.\n",
            "INFO:tensorflow:Restoring parameters from /tmp/tmpq84db5pf/model.ckpt-10000\n",
            "INFO:tensorflow:Running local_init_op.\n",
            "INFO:tensorflow:Done running local_init_op.\n",
            "INFO:tensorflow:Evaluation [1000/10000]\n",
            "INFO:tensorflow:Evaluation [2000/10000]\n",
            "INFO:tensorflow:Evaluation [3000/10000]\n",
            "INFO:tensorflow:Evaluation [4000/10000]\n",
            "INFO:tensorflow:Evaluation [5000/10000]\n",
            "INFO:tensorflow:Evaluation [6000/10000]\n",
            "INFO:tensorflow:Evaluation [7000/10000]\n",
            "INFO:tensorflow:Evaluation [8000/10000]\n",
            "INFO:tensorflow:Evaluation [9000/10000]\n",
            "INFO:tensorflow:Finished evaluation at 2020-04-28-18:34:03\n",
            "INFO:tensorflow:Saving dict for global step 10000: average_loss = 0.044323128, global_step = 10000, label/mean = 0.62359107, loss = 1.4183401, prediction/mean = 0.67811567\n",
            "INFO:tensorflow:Saving 'checkpoint_path' summary for global step 10000: /tmp/tmpq84db5pf/model.ckpt-10000\n"
          ],
          "name": "stdout"
        }
      ]
    },
    {
      "cell_type": "code",
      "metadata": {
        "colab_type": "code",
        "id": "OQFiBrwTN5GP",
        "outputId": "7ac4743e-114c-4340-c825-da36b616bf7a",
        "colab": {
          "base_uri": "https://localhost:8080/",
          "height": 102
        }
      },
      "source": [
        "# exibindo valores da métrica.\n",
        "metricas_treinamento"
      ],
      "execution_count": 51,
      "outputs": [
        {
          "output_type": "execute_result",
          "data": {
            "text/plain": [
              "{'average_loss': 0.017598214,\n",
              " 'global_step': 10000,\n",
              " 'label/mean': 0.66980094,\n",
              " 'loss': 0.56314284,\n",
              " 'prediction/mean': 0.6600661}"
            ]
          },
          "metadata": {
            "tags": []
          },
          "execution_count": 51
        }
      ]
    },
    {
      "cell_type": "code",
      "metadata": {
        "colab_type": "code",
        "id": "K_utx6uNN5GR",
        "outputId": "88b6cfe5-632f-4de4-8e13-258632253b96",
        "colab": {
          "base_uri": "https://localhost:8080/",
          "height": 102
        }
      },
      "source": [
        "# exibindo valores da métrica. (valores para análise de resultados.)\n",
        "metricas_teste"
      ],
      "execution_count": 52,
      "outputs": [
        {
          "output_type": "execute_result",
          "data": {
            "text/plain": [
              "{'average_loss': 0.044323128,\n",
              " 'global_step': 10000,\n",
              " 'label/mean': 0.62359107,\n",
              " 'loss': 1.4183401,\n",
              " 'prediction/mean': 0.67811567}"
            ]
          },
          "metadata": {
            "tags": []
          },
          "execution_count": 52
        }
      ]
    },
    {
      "cell_type": "markdown",
      "metadata": {
        "colab_type": "text",
        "id": "1xpDOBTV2x99"
      },
      "source": [
        "PREVISÃO..."
      ]
    },
    {
      "cell_type": "code",
      "metadata": {
        "colab_type": "code",
        "id": "9yCStsj_N5GU",
        "colab": {}
      },
      "source": [
        "# função de previsão, gera os valores para cada um dos valores de X.\n",
        "funcao_previsao = tf.estimator.inputs.pandas_input_fn(x = X_teste, shuffle = False)"
      ],
      "execution_count": 0,
      "outputs": []
    },
    {
      "cell_type": "code",
      "metadata": {
        "colab_type": "code",
        "id": "9v0oDE1_N5GX",
        "colab": {}
      },
      "source": [
        "previsoes = regressor.predict(input_fn=funcao_previsao)"
      ],
      "execution_count": 0,
      "outputs": []
    },
    {
      "cell_type": "code",
      "metadata": {
        "colab_type": "code",
        "id": "Rn5YuZ8EN5GZ",
        "outputId": "117e6b96-de70-46ae-ef32-223ac58c9602",
        "colab": {
          "base_uri": "https://localhost:8080/",
          "height": 629
        }
      },
      "source": [
        "# exibe valores previstos.\n",
        "list(previsoes)"
      ],
      "execution_count": 55,
      "outputs": [
        {
          "output_type": "stream",
          "text": [
            "INFO:tensorflow:Calling model_fn.\n",
            "INFO:tensorflow:Done calling model_fn.\n",
            "INFO:tensorflow:Graph was finalized.\n",
            "INFO:tensorflow:Restoring parameters from /tmp/tmpq84db5pf/model.ckpt-10000\n",
            "INFO:tensorflow:Running local_init_op.\n",
            "INFO:tensorflow:Done running local_init_op.\n"
          ],
          "name": "stdout"
        },
        {
          "output_type": "execute_result",
          "data": {
            "text/plain": [
              "[{'predictions': array([0.85198224], dtype=float32)},\n",
              " {'predictions': array([0.62288594], dtype=float32)},\n",
              " {'predictions': array([0.5665797], dtype=float32)},\n",
              " {'predictions': array([0.5752864], dtype=float32)},\n",
              " {'predictions': array([0.7422537], dtype=float32)},\n",
              " {'predictions': array([0.6310452], dtype=float32)},\n",
              " {'predictions': array([0.7804037], dtype=float32)},\n",
              " {'predictions': array([0.6404171], dtype=float32)},\n",
              " {'predictions': array([0.8282819], dtype=float32)},\n",
              " {'predictions': array([0.65532637], dtype=float32)},\n",
              " {'predictions': array([0.8542887], dtype=float32)},\n",
              " {'predictions': array([0.6400654], dtype=float32)},\n",
              " {'predictions': array([0.6603379], dtype=float32)},\n",
              " {'predictions': array([0.7073367], dtype=float32)},\n",
              " {'predictions': array([0.6310492], dtype=float32)},\n",
              " {'predictions': array([0.72443116], dtype=float32)},\n",
              " {'predictions': array([0.5688299], dtype=float32)},\n",
              " {'predictions': array([0.6192843], dtype=float32)},\n",
              " {'predictions': array([0.5694825], dtype=float32)},\n",
              " {'predictions': array([0.66267145], dtype=float32)},\n",
              " {'predictions': array([0.62840915], dtype=float32)},\n",
              " {'predictions': array([0.7364763], dtype=float32)},\n",
              " {'predictions': array([0.81638044], dtype=float32)},\n",
              " {'predictions': array([0.52159953], dtype=float32)},\n",
              " {'predictions': array([0.68060404], dtype=float32)},\n",
              " {'predictions': array([0.72323275], dtype=float32)},\n",
              " {'predictions': array([0.7231647], dtype=float32)},\n",
              " {'predictions': array([0.62855995], dtype=float32)},\n",
              " {'predictions': array([0.63377136], dtype=float32)},\n",
              " {'predictions': array([0.71856046], dtype=float32)}]"
            ]
          },
          "metadata": {
            "tags": []
          },
          "execution_count": 55
        }
      ]
    },
    {
      "cell_type": "code",
      "metadata": {
        "colab_type": "code",
        "id": "L6WQEGWGN5Gc",
        "outputId": "b679cd14-322f-4e7f-cb10-2c32ece4270f",
        "colab": {
          "base_uri": "https://localhost:8080/",
          "height": 119
        }
      },
      "source": [
        "# para o calculo do erro, vamos criar um array, que irá receber cada um dos valores gerados pela função previsão.\n",
        "valores_previsoes = []\n",
        "for p in regressor.predict(input_fn=funcao_previsao):\n",
        "    valores_previsoes.append(p['predictions'])"
      ],
      "execution_count": 56,
      "outputs": [
        {
          "output_type": "stream",
          "text": [
            "INFO:tensorflow:Calling model_fn.\n",
            "INFO:tensorflow:Done calling model_fn.\n",
            "INFO:tensorflow:Graph was finalized.\n",
            "INFO:tensorflow:Restoring parameters from /tmp/tmpq84db5pf/model.ckpt-10000\n",
            "INFO:tensorflow:Running local_init_op.\n",
            "INFO:tensorflow:Done running local_init_op.\n"
          ],
          "name": "stdout"
        }
      ]
    },
    {
      "cell_type": "code",
      "metadata": {
        "colab_type": "code",
        "id": "8aK4bON0N5Gf",
        "outputId": "785e8caa-5d30-44af-8c3c-692e304d8b7b",
        "colab": {
          "base_uri": "https://localhost:8080/",
          "height": 527
        }
      },
      "source": [
        "# exibe array com os valores.\n",
        "# com esse valores iremos calcular os erros MSE e MAE.\n",
        "valores_previsoes"
      ],
      "execution_count": 57,
      "outputs": [
        {
          "output_type": "execute_result",
          "data": {
            "text/plain": [
              "[array([0.85198224], dtype=float32),\n",
              " array([0.62288594], dtype=float32),\n",
              " array([0.5665797], dtype=float32),\n",
              " array([0.5752864], dtype=float32),\n",
              " array([0.7422537], dtype=float32),\n",
              " array([0.6310452], dtype=float32),\n",
              " array([0.7804037], dtype=float32),\n",
              " array([0.6404171], dtype=float32),\n",
              " array([0.8282819], dtype=float32),\n",
              " array([0.65532637], dtype=float32),\n",
              " array([0.8542887], dtype=float32),\n",
              " array([0.6400654], dtype=float32),\n",
              " array([0.6603379], dtype=float32),\n",
              " array([0.7073367], dtype=float32),\n",
              " array([0.6310492], dtype=float32),\n",
              " array([0.72443116], dtype=float32),\n",
              " array([0.5688299], dtype=float32),\n",
              " array([0.6192843], dtype=float32),\n",
              " array([0.5694825], dtype=float32),\n",
              " array([0.66267145], dtype=float32),\n",
              " array([0.62840915], dtype=float32),\n",
              " array([0.7364763], dtype=float32),\n",
              " array([0.81638044], dtype=float32),\n",
              " array([0.52159953], dtype=float32),\n",
              " array([0.68060404], dtype=float32),\n",
              " array([0.72323275], dtype=float32),\n",
              " array([0.7231647], dtype=float32),\n",
              " array([0.62855995], dtype=float32),\n",
              " array([0.63377136], dtype=float32),\n",
              " array([0.71856046], dtype=float32)]"
            ]
          },
          "metadata": {
            "tags": []
          },
          "execution_count": 57
        }
      ]
    },
    {
      "cell_type": "code",
      "metadata": {
        "colab_type": "code",
        "id": "EtUF_UREN5Gh",
        "colab": {}
      },
      "source": [
        "# como os valores foram normalizados, precisamos desnormaliza-los.\n",
        "import numpy as np\n",
        "# colocar no formato de matriz.\n",
        "valores_previsoes = np.asarray(valores_previsoes).reshape(-1,1)"
      ],
      "execution_count": 0,
      "outputs": []
    },
    {
      "cell_type": "code",
      "metadata": {
        "colab_type": "code",
        "id": "P6V-t3YGN5Gk",
        "outputId": "4929d13c-80b9-484a-aaaf-6591505cd104",
        "colab": {
          "base_uri": "https://localhost:8080/",
          "height": 527
        }
      },
      "source": [
        "valores_previsoes"
      ],
      "execution_count": 59,
      "outputs": [
        {
          "output_type": "execute_result",
          "data": {
            "text/plain": [
              "array([[0.85198224],\n",
              "       [0.62288594],\n",
              "       [0.5665797 ],\n",
              "       [0.5752864 ],\n",
              "       [0.7422537 ],\n",
              "       [0.6310452 ],\n",
              "       [0.7804037 ],\n",
              "       [0.6404171 ],\n",
              "       [0.8282819 ],\n",
              "       [0.65532637],\n",
              "       [0.8542887 ],\n",
              "       [0.6400654 ],\n",
              "       [0.6603379 ],\n",
              "       [0.7073367 ],\n",
              "       [0.6310492 ],\n",
              "       [0.72443116],\n",
              "       [0.5688299 ],\n",
              "       [0.6192843 ],\n",
              "       [0.5694825 ],\n",
              "       [0.66267145],\n",
              "       [0.62840915],\n",
              "       [0.7364763 ],\n",
              "       [0.81638044],\n",
              "       [0.52159953],\n",
              "       [0.68060404],\n",
              "       [0.72323275],\n",
              "       [0.7231647 ],\n",
              "       [0.62855995],\n",
              "       [0.63377136],\n",
              "       [0.71856046]], dtype=float32)"
            ]
          },
          "metadata": {
            "tags": []
          },
          "execution_count": 59
        }
      ]
    },
    {
      "cell_type": "code",
      "metadata": {
        "colab_type": "code",
        "id": "Be3a4J1oN5Gm",
        "outputId": "40d19588-4527-480c-f152-9d76c4c1d637",
        "colab": {
          "base_uri": "https://localhost:8080/",
          "height": 527
        }
      },
      "source": [
        "valores_previsoes = scaler_y.inverse_transform(valores_previsoes)\n",
        "valores_previsoes"
      ],
      "execution_count": 60,
      "outputs": [
        {
          "output_type": "execute_result",
          "data": {
            "text/plain": [
              "array([[0.85198224],\n",
              "       [0.62288594],\n",
              "       [0.5665797 ],\n",
              "       [0.5752864 ],\n",
              "       [0.7422537 ],\n",
              "       [0.6310452 ],\n",
              "       [0.7804037 ],\n",
              "       [0.6404171 ],\n",
              "       [0.8282819 ],\n",
              "       [0.65532637],\n",
              "       [0.8542887 ],\n",
              "       [0.6400654 ],\n",
              "       [0.6603379 ],\n",
              "       [0.7073367 ],\n",
              "       [0.6310492 ],\n",
              "       [0.72443116],\n",
              "       [0.5688299 ],\n",
              "       [0.6192843 ],\n",
              "       [0.5694825 ],\n",
              "       [0.66267145],\n",
              "       [0.62840915],\n",
              "       [0.7364763 ],\n",
              "       [0.81638044],\n",
              "       [0.52159953],\n",
              "       [0.68060404],\n",
              "       [0.72323275],\n",
              "       [0.7231647 ],\n",
              "       [0.62855995],\n",
              "       [0.63377136],\n",
              "       [0.71856046]], dtype=float32)"
            ]
          },
          "metadata": {
            "tags": []
          },
          "execution_count": 60
        }
      ]
    },
    {
      "cell_type": "code",
      "metadata": {
        "colab_type": "code",
        "id": "uvDlpr_4N5Gp",
        "outputId": "3a7fb050-fd25-40d8-f08e-061c9ad15415",
        "colab": {
          "base_uri": "https://localhost:8080/",
          "height": 544
        }
      },
      "source": [
        "y_teste"
      ],
      "execution_count": 61,
      "outputs": [
        {
          "output_type": "execute_result",
          "data": {
            "text/plain": [
              "4     0.524664\n",
              "39    0.433483\n",
              "61    0.635277\n",
              "9     0.713004\n",
              "55    0.636771\n",
              "71    0.871450\n",
              "49    0.762332\n",
              "97    0.707025\n",
              "0     0.847534\n",
              "59    0.837070\n",
              "42    0.949178\n",
              "84    0.857997\n",
              "43    0.729447\n",
              "1     0.651719\n",
              "2     0.600897\n",
              "19    0.778774\n",
              "90    0.793722\n",
              "93    0.726457\n",
              "11    0.590433\n",
              "80    0.692078\n",
              "87    0.523169\n",
              "98    0.597907\n",
              "57    0.666667\n",
              "66    0.083707\n",
              "20    0.426009\n",
              "34    0.766816\n",
              "70    0.385650\n",
              "99    0.000000\n",
              "86    0.346786\n",
              "6     0.571001\n",
              "Name: danceability, dtype: float64"
            ]
          },
          "metadata": {
            "tags": []
          },
          "execution_count": 61
        }
      ]
    },
    {
      "cell_type": "code",
      "metadata": {
        "colab_type": "code",
        "id": "6L2GFUReN5Gt",
        "outputId": "b898af8b-7184-4d25-aa09-29cf3d4553ad",
        "colab": {
          "base_uri": "https://localhost:8080/",
          "height": 34
        }
      },
      "source": [
        "y_teste.shape"
      ],
      "execution_count": 62,
      "outputs": [
        {
          "output_type": "execute_result",
          "data": {
            "text/plain": [
              "(30,)"
            ]
          },
          "metadata": {
            "tags": []
          },
          "execution_count": 62
        }
      ]
    },
    {
      "cell_type": "code",
      "metadata": {
        "colab_type": "code",
        "id": "XKshJW1mN5Gz",
        "outputId": "069fa64d-1859-48ad-cc13-eab812f9be5e",
        "colab": {
          "base_uri": "https://localhost:8080/",
          "height": 34
        }
      },
      "source": [
        "y_teste2 = y_teste.values.reshape(-1,1)\n",
        "y_teste2.shape"
      ],
      "execution_count": 63,
      "outputs": [
        {
          "output_type": "execute_result",
          "data": {
            "text/plain": [
              "(30, 1)"
            ]
          },
          "metadata": {
            "tags": []
          },
          "execution_count": 63
        }
      ]
    },
    {
      "cell_type": "code",
      "metadata": {
        "colab_type": "code",
        "id": "ZpAFrgUHN5G2",
        "colab": {}
      },
      "source": [
        "y_teste2 = scaler_y.inverse_transform(y_teste2)"
      ],
      "execution_count": 0,
      "outputs": []
    },
    {
      "cell_type": "code",
      "metadata": {
        "colab_type": "code",
        "id": "aKidmZhSN5G4",
        "outputId": "fe53c69e-de02-4d10-85b4-c382cb8639a0",
        "colab": {
          "base_uri": "https://localhost:8080/",
          "height": 527
        }
      },
      "source": [
        "y_teste2"
      ],
      "execution_count": 65,
      "outputs": [
        {
          "output_type": "execute_result",
          "data": {
            "text/plain": [
              "array([[0.52466368],\n",
              "       [0.43348281],\n",
              "       [0.63527653],\n",
              "       [0.71300448],\n",
              "       [0.6367713 ],\n",
              "       [0.87144993],\n",
              "       [0.76233184],\n",
              "       [0.70702541],\n",
              "       [0.84753363],\n",
              "       [0.83707025],\n",
              "       [0.94917788],\n",
              "       [0.85799701],\n",
              "       [0.72944694],\n",
              "       [0.65171898],\n",
              "       [0.60089686],\n",
              "       [0.77877429],\n",
              "       [0.79372197],\n",
              "       [0.7264574 ],\n",
              "       [0.59043348],\n",
              "       [0.69207773],\n",
              "       [0.52316891],\n",
              "       [0.59790732],\n",
              "       [0.66666667],\n",
              "       [0.08370703],\n",
              "       [0.42600897],\n",
              "       [0.76681614],\n",
              "       [0.38565022],\n",
              "       [0.        ],\n",
              "       [0.34678625],\n",
              "       [0.57100149]])"
            ]
          },
          "metadata": {
            "tags": []
          },
          "execution_count": 65
        }
      ]
    },
    {
      "cell_type": "code",
      "metadata": {
        "colab_type": "code",
        "id": "TqizD2rIN5G8",
        "colab": {}
      },
      "source": [
        "from sklearn.metrics import mean_absolute_error\n",
        "mae = mean_absolute_error(y_teste2, valores_previsoes)"
      ],
      "execution_count": 0,
      "outputs": []
    },
    {
      "cell_type": "code",
      "metadata": {
        "colab_type": "code",
        "id": "lMn6shVDN5HA",
        "outputId": "e06257a5-039e-4e77-9840-aa5c2269449c",
        "colab": {
          "base_uri": "https://localhost:8080/",
          "height": 34
        }
      },
      "source": [
        "mae"
      ],
      "execution_count": 69,
      "outputs": [
        {
          "output_type": "execute_result",
          "data": {
            "text/plain": [
              "0.15964591643616638"
            ]
          },
          "metadata": {
            "tags": []
          },
          "execution_count": 69
        }
      ]
    },
    {
      "cell_type": "markdown",
      "metadata": {
        "id": "0WIHaU2CE0u4",
        "colab_type": "text"
      },
      "source": [
        "# Conclusão\n",
        "Chegamos a conclusão que nivel de dansabilidade de uma track do spotify influência diretamente no seu posicionamento das musicais mais escutas, top100, no spotify"
      ]
    }
  ]
}