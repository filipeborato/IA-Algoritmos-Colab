{
  "nbformat": 4,
  "nbformat_minor": 0,
  "metadata": {
    "colab": {
      "name": "Exercicio2 - Filipe Borato.ipynb",
      "provenance": [],
      "collapsed_sections": []
    },
    "kernelspec": {
      "name": "python3",
      "display_name": "Python 3"
    }
  },
  "cells": [
    {
      "cell_type": "code",
      "metadata": {
        "id": "tlSlqYPf7blJ",
        "colab_type": "code",
        "colab": {
          "base_uri": "https://localhost:8080/",
          "height": 34
        },
        "outputId": "33c91275-747a-4c10-b049-3880e16aeb2a"
      },
      "source": [
        "%tensorflow_version 1.x"
      ],
      "execution_count": 6,
      "outputs": [
        {
          "output_type": "stream",
          "text": [
            "TensorFlow is already loaded. Please restart the runtime to change versions.\n"
          ],
          "name": "stdout"
        }
      ]
    },
    {
      "cell_type": "markdown",
      "metadata": {
        "id": "P2ahvkOZjWN0",
        "colab_type": "text"
      },
      "source": [
        "# Calculo\tPeso\tNeurônio\tArtificial\t- TensoFlow\n",
        "\n",
        "• Calcule\to\tproduto\tescalar\tdo\tseguintes\tneurônios:\n",
        "\n",
        "• N1\t=\tentradas:\t13,\t-5,\t2,\t6.\tPesos:\t0.3,\t0.1,\t0.8,\t0.5\n",
        "\n",
        "• N2\t=\tentradas:\t3,\t-1,\t9.\tPesos:\t0.1,\t0.7,\t0.5\n",
        "\n",
        "• N3\t=\tentradas:\t-2,\t-5,\t3,\t9.\tPesos:\t0.4,\t0.2,\t0.7,\t0.4"
      ]
    },
    {
      "cell_type": "code",
      "metadata": {
        "id": "oxncOTCf7foZ",
        "colab_type": "code",
        "colab": {
          "base_uri": "https://localhost:8080/",
          "height": 34
        },
        "outputId": "21d163d0-5532-49de-d648-b19c66ed8bbd"
      },
      "source": [
        "import tensorflow as tf\n",
        "import numpy as np\n",
        "print(tf.__version__)"
      ],
      "execution_count": 7,
      "outputs": [
        {
          "output_type": "stream",
          "text": [
            "1.15.2\n"
          ],
          "name": "stdout"
        }
      ]
    },
    {
      "cell_type": "code",
      "metadata": {
        "id": "11LvA3Z98JP4",
        "colab_type": "code",
        "colab": {}
      },
      "source": [
        "n1_in    = tf.constant([13.0,-5.0,2.0,6.0], name = \"entrada1\")\n",
        "n1_p     = tf.constant([0.3,0.1,\t0.8,0.5], name = \"peso1\")\n",
        "mult     = tf.multiply(n1_in, n1_p)\n",
        "Escalar1 = tf.reduce_sum(mult)"
      ],
      "execution_count": 0,
      "outputs": []
    },
    {
      "cell_type": "code",
      "metadata": {
        "id": "aF-IPcdKfiMw",
        "colab_type": "code",
        "colab": {
          "base_uri": "https://localhost:8080/",
          "height": 187
        },
        "outputId": "328d4dd1-256c-4125-8c8f-f7844243d493"
      },
      "source": [
        "with tf.Session() as sess:\n",
        "  print(sess.run(n1_in))\n",
        "  print(\"\\n\")\n",
        "  print(sess.run(n1_p))\n",
        "  print(\"\\n\")\n",
        "  print(sess.run(mult))\n",
        "  print(\"\\n\")\n",
        "  print(sess.run(Escalar1))"
      ],
      "execution_count": 12,
      "outputs": [
        {
          "output_type": "stream",
          "text": [
            "[13. -5.  2.  6.]\n",
            "\n",
            "\n",
            "[0.3 0.1 0.8 0.5]\n",
            "\n",
            "\n",
            "[ 3.9 -0.5  1.6  3. ]\n",
            "\n",
            "\n",
            "8.0\n"
          ],
          "name": "stdout"
        }
      ]
    },
    {
      "cell_type": "code",
      "metadata": {
        "id": "In3gv3IKg1Ph",
        "colab_type": "code",
        "colab": {}
      },
      "source": [
        "n2_in    = tf.constant([3.0,\t-1.0,\t9.0], name = \"entrada2\")\n",
        "n2_p     = tf.constant([0.1,\t0.7,\t0.5], name = \"peso2\")\n",
        "mult     = tf.multiply(n2_in, n2_p)\n",
        "Escalar2 = tf.reduce_sum(mult)"
      ],
      "execution_count": 0,
      "outputs": []
    },
    {
      "cell_type": "code",
      "metadata": {
        "id": "uNjsehVGiNgF",
        "colab_type": "code",
        "colab": {}
      },
      "source": [
        ""
      ],
      "execution_count": 0,
      "outputs": []
    },
    {
      "cell_type": "code",
      "metadata": {
        "colab_type": "code",
        "outputId": "167559b4-4080-4b91-8485-81c3f3b3cf8e",
        "id": "PfAgAdHeiQou",
        "colab": {
          "base_uri": "https://localhost:8080/",
          "height": 187
        }
      },
      "source": [
        "with tf.Session() as sess:\n",
        "  print(sess.run(n2_in))\n",
        "  print(\"\\n\")\n",
        "  print(sess.run(n2_p))\n",
        "  print(\"\\n\")\n",
        "  print(sess.run(mult))\n",
        "  print(\"\\n\")\n",
        "  print(sess.run(Escalar2))"
      ],
      "execution_count": 15,
      "outputs": [
        {
          "output_type": "stream",
          "text": [
            "[ 3. -1.  9.]\n",
            "\n",
            "\n",
            "[0.1 0.7 0.5]\n",
            "\n",
            "\n",
            "[ 0.3 -0.7  4.5]\n",
            "\n",
            "\n",
            "4.1\n"
          ],
          "name": "stdout"
        }
      ]
    },
    {
      "cell_type": "code",
      "metadata": {
        "id": "FT484NgXiZEV",
        "colab_type": "code",
        "colab": {}
      },
      "source": [
        "n3_in    = tf.constant([-2.0,\t-5.0,\t3.0,\t9.0], name = \"entrada3\")\n",
        "n3_p     = tf.constant([\t0.4,\t0.2,\t0.7,\t0.4], name = \"peso3\")\n",
        "mult     = tf.multiply(n3_in, n3_p)\n",
        "Escalar3 = tf.reduce_sum(mult)"
      ],
      "execution_count": 0,
      "outputs": []
    },
    {
      "cell_type": "code",
      "metadata": {
        "id": "4fA68zCRiyup",
        "colab_type": "code",
        "colab": {
          "base_uri": "https://localhost:8080/",
          "height": 187
        },
        "outputId": "128e35c6-047b-4071-cbe9-5d71de164f0c"
      },
      "source": [
        "with tf.Session() as sess:\n",
        "  print(sess.run(n3_in))\n",
        "  print(\"\\n\")\n",
        "  print(sess.run(n3_p))\n",
        "  print(\"\\n\")\n",
        "  print(sess.run(mult))\n",
        "  print(\"\\n\")\n",
        "  print(sess.run(Escalar3))"
      ],
      "execution_count": 19,
      "outputs": [
        {
          "output_type": "stream",
          "text": [
            "[-2. -5.  3.  9.]\n",
            "\n",
            "\n",
            "[0.4 0.2 0.7 0.4]\n",
            "\n",
            "\n",
            "[-0.8       -1.         2.1        3.6000001]\n",
            "\n",
            "\n",
            "3.9\n"
          ],
          "name": "stdout"
        }
      ]
    }
  ]
}